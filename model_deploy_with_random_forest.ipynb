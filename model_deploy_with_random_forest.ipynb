{
  "cells": [
    {
      "cell_type": "code",
      "metadata": {
        "id": "vhmjACySJpRC"
      },
      "source": [
        "import os\n",
        "import pandas as pd\n",
        "import numpy as np\n",
        "import seaborn as sns\n",
        "import matplotlib.pyplot as plt\n",
        "from sklearn.model_selection import train_test_split\n",
        "\n",
        "from sklearn.metrics import classification_report, confusion_matrix, accuracy_score"
      ],
      "execution_count": null,
      "outputs": []
    },
    {
      "cell_type": "code",
      "metadata": {
        "colab": {
          "base_uri": "https://localhost:8080/",
          "height": 206
        },
        "id": "ajEK7qj6V-sa",
        "outputId": "d93811c7-0b33-497c-85c0-a20b585f4fd0"
      },
      "source": [
        "\n",
        "df = pd.read_csv('/content/IFND dataset.csv', encoding = 'unicode_escape', engine ='python')\n",
        "df.head()"
      ],
      "execution_count": null,
      "outputs": [
        {
          "output_type": "execute_result",
          "data": {
            "text/html": [
              "\n",
              "  <div id=\"df-760ac447-60fe-46f6-a462-cb3e9cf1d7fe\">\n",
              "    <div class=\"colab-df-container\">\n",
              "      <div>\n",
              "<style scoped>\n",
              "    .dataframe tbody tr th:only-of-type {\n",
              "        vertical-align: middle;\n",
              "    }\n",
              "\n",
              "    .dataframe tbody tr th {\n",
              "        vertical-align: top;\n",
              "    }\n",
              "\n",
              "    .dataframe thead th {\n",
              "        text-align: right;\n",
              "    }\n",
              "</style>\n",
              "<table border=\"1\" class=\"dataframe\">\n",
              "  <thead>\n",
              "    <tr style=\"text-align: right;\">\n",
              "      <th></th>\n",
              "      <th>id</th>\n",
              "      <th>Statement</th>\n",
              "      <th>Label</th>\n",
              "    </tr>\n",
              "  </thead>\n",
              "  <tbody>\n",
              "    <tr>\n",
              "      <th>0</th>\n",
              "      <td>2</td>\n",
              "      <td>WHO praises India's Aarogya Setu app, says it ...</td>\n",
              "      <td>1</td>\n",
              "    </tr>\n",
              "    <tr>\n",
              "      <th>1</th>\n",
              "      <td>3</td>\n",
              "      <td>In Delhi, Deputy US Secretary of State Stephen...</td>\n",
              "      <td>1</td>\n",
              "    </tr>\n",
              "    <tr>\n",
              "      <th>2</th>\n",
              "      <td>4</td>\n",
              "      <td>LAC tensions: China's strategy behind delibera...</td>\n",
              "      <td>1</td>\n",
              "    </tr>\n",
              "    <tr>\n",
              "      <th>3</th>\n",
              "      <td>5</td>\n",
              "      <td>India has signed 250 documents on Space cooper...</td>\n",
              "      <td>1</td>\n",
              "    </tr>\n",
              "    <tr>\n",
              "      <th>4</th>\n",
              "      <td>6</td>\n",
              "      <td>Tamil Nadu chief minister's mother passes away...</td>\n",
              "      <td>1</td>\n",
              "    </tr>\n",
              "  </tbody>\n",
              "</table>\n",
              "</div>\n",
              "      <button class=\"colab-df-convert\" onclick=\"convertToInteractive('df-760ac447-60fe-46f6-a462-cb3e9cf1d7fe')\"\n",
              "              title=\"Convert this dataframe to an interactive table.\"\n",
              "              style=\"display:none;\">\n",
              "        \n",
              "  <svg xmlns=\"http://www.w3.org/2000/svg\" height=\"24px\"viewBox=\"0 0 24 24\"\n",
              "       width=\"24px\">\n",
              "    <path d=\"M0 0h24v24H0V0z\" fill=\"none\"/>\n",
              "    <path d=\"M18.56 5.44l.94 2.06.94-2.06 2.06-.94-2.06-.94-.94-2.06-.94 2.06-2.06.94zm-11 1L8.5 8.5l.94-2.06 2.06-.94-2.06-.94L8.5 2.5l-.94 2.06-2.06.94zm10 10l.94 2.06.94-2.06 2.06-.94-2.06-.94-.94-2.06-.94 2.06-2.06.94z\"/><path d=\"M17.41 7.96l-1.37-1.37c-.4-.4-.92-.59-1.43-.59-.52 0-1.04.2-1.43.59L10.3 9.45l-7.72 7.72c-.78.78-.78 2.05 0 2.83L4 21.41c.39.39.9.59 1.41.59.51 0 1.02-.2 1.41-.59l7.78-7.78 2.81-2.81c.8-.78.8-2.07 0-2.86zM5.41 20L4 18.59l7.72-7.72 1.47 1.35L5.41 20z\"/>\n",
              "  </svg>\n",
              "      </button>\n",
              "      \n",
              "  <style>\n",
              "    .colab-df-container {\n",
              "      display:flex;\n",
              "      flex-wrap:wrap;\n",
              "      gap: 12px;\n",
              "    }\n",
              "\n",
              "    .colab-df-convert {\n",
              "      background-color: #E8F0FE;\n",
              "      border: none;\n",
              "      border-radius: 50%;\n",
              "      cursor: pointer;\n",
              "      display: none;\n",
              "      fill: #1967D2;\n",
              "      height: 32px;\n",
              "      padding: 0 0 0 0;\n",
              "      width: 32px;\n",
              "    }\n",
              "\n",
              "    .colab-df-convert:hover {\n",
              "      background-color: #E2EBFA;\n",
              "      box-shadow: 0px 1px 2px rgba(60, 64, 67, 0.3), 0px 1px 3px 1px rgba(60, 64, 67, 0.15);\n",
              "      fill: #174EA6;\n",
              "    }\n",
              "\n",
              "    [theme=dark] .colab-df-convert {\n",
              "      background-color: #3B4455;\n",
              "      fill: #D2E3FC;\n",
              "    }\n",
              "\n",
              "    [theme=dark] .colab-df-convert:hover {\n",
              "      background-color: #434B5C;\n",
              "      box-shadow: 0px 1px 3px 1px rgba(0, 0, 0, 0.15);\n",
              "      filter: drop-shadow(0px 1px 2px rgba(0, 0, 0, 0.3));\n",
              "      fill: #FFFFFF;\n",
              "    }\n",
              "  </style>\n",
              "\n",
              "      <script>\n",
              "        const buttonEl =\n",
              "          document.querySelector('#df-760ac447-60fe-46f6-a462-cb3e9cf1d7fe button.colab-df-convert');\n",
              "        buttonEl.style.display =\n",
              "          google.colab.kernel.accessAllowed ? 'block' : 'none';\n",
              "\n",
              "        async function convertToInteractive(key) {\n",
              "          const element = document.querySelector('#df-760ac447-60fe-46f6-a462-cb3e9cf1d7fe');\n",
              "          const dataTable =\n",
              "            await google.colab.kernel.invokeFunction('convertToInteractive',\n",
              "                                                     [key], {});\n",
              "          if (!dataTable) return;\n",
              "\n",
              "          const docLinkHtml = 'Like what you see? Visit the ' +\n",
              "            '<a target=\"_blank\" href=https://colab.research.google.com/notebooks/data_table.ipynb>data table notebook</a>'\n",
              "            + ' to learn more about interactive tables.';\n",
              "          element.innerHTML = '';\n",
              "          dataTable['output_type'] = 'display_data';\n",
              "          await google.colab.output.renderOutput(dataTable, element);\n",
              "          const docLink = document.createElement('div');\n",
              "          docLink.innerHTML = docLinkHtml;\n",
              "          element.appendChild(docLink);\n",
              "        }\n",
              "      </script>\n",
              "    </div>\n",
              "  </div>\n",
              "  "
            ],
            "text/plain": [
              "   id                                          Statement  Label\n",
              "0   2  WHO praises India's Aarogya Setu app, says it ...      1\n",
              "1   3  In Delhi, Deputy US Secretary of State Stephen...      1\n",
              "2   4  LAC tensions: China's strategy behind delibera...      1\n",
              "3   5  India has signed 250 documents on Space cooper...      1\n",
              "4   6  Tamil Nadu chief minister's mother passes away...      1"
            ]
          },
          "metadata": {},
          "execution_count": 2
        }
      ]
    },
    {
      "cell_type": "code",
      "metadata": {
        "id": "iTMqbY25TRyj"
      },
      "source": [
        "\n",
        "df=df.sample(frac=1).reset_index(drop=True)\n"
      ],
      "execution_count": null,
      "outputs": []
    },
    {
      "cell_type": "code",
      "metadata": {
        "colab": {
          "base_uri": "https://localhost:8080/",
          "height": 112
        },
        "id": "ELfLFyy3ZBhe",
        "outputId": "3a3f3e33-a96f-4d43-e7d5-6248391bacf6"
      },
      "source": [
        "import seaborn as sns\n",
        "df1=df.copy()\n",
        "df1.reset_index(inplace=True)\n",
        "df1.head(2)"
      ],
      "execution_count": null,
      "outputs": [
        {
          "output_type": "execute_result",
          "data": {
            "text/html": [
              "\n",
              "  <div id=\"df-697576ab-b2bd-420d-8f41-4f590b19a5a6\">\n",
              "    <div class=\"colab-df-container\">\n",
              "      <div>\n",
              "<style scoped>\n",
              "    .dataframe tbody tr th:only-of-type {\n",
              "        vertical-align: middle;\n",
              "    }\n",
              "\n",
              "    .dataframe tbody tr th {\n",
              "        vertical-align: top;\n",
              "    }\n",
              "\n",
              "    .dataframe thead th {\n",
              "        text-align: right;\n",
              "    }\n",
              "</style>\n",
              "<table border=\"1\" class=\"dataframe\">\n",
              "  <thead>\n",
              "    <tr style=\"text-align: right;\">\n",
              "      <th></th>\n",
              "      <th>index</th>\n",
              "      <th>id</th>\n",
              "      <th>Statement</th>\n",
              "      <th>Label</th>\n",
              "    </tr>\n",
              "  </thead>\n",
              "  <tbody>\n",
              "    <tr>\n",
              "      <th>0</th>\n",
              "      <td>0</td>\n",
              "      <td>46438</td>\n",
              "      <td>Video Exaggerates 9 Public Sector Banks Could ...</td>\n",
              "      <td>0</td>\n",
              "    </tr>\n",
              "    <tr>\n",
              "      <th>1</th>\n",
              "      <td>1</td>\n",
              "      <td>36016</td>\n",
              "      <td>BJP keeps MPs on toes ï¿½ from Article 370 mee...</td>\n",
              "      <td>1</td>\n",
              "    </tr>\n",
              "  </tbody>\n",
              "</table>\n",
              "</div>\n",
              "      <button class=\"colab-df-convert\" onclick=\"convertToInteractive('df-697576ab-b2bd-420d-8f41-4f590b19a5a6')\"\n",
              "              title=\"Convert this dataframe to an interactive table.\"\n",
              "              style=\"display:none;\">\n",
              "        \n",
              "  <svg xmlns=\"http://www.w3.org/2000/svg\" height=\"24px\"viewBox=\"0 0 24 24\"\n",
              "       width=\"24px\">\n",
              "    <path d=\"M0 0h24v24H0V0z\" fill=\"none\"/>\n",
              "    <path d=\"M18.56 5.44l.94 2.06.94-2.06 2.06-.94-2.06-.94-.94-2.06-.94 2.06-2.06.94zm-11 1L8.5 8.5l.94-2.06 2.06-.94-2.06-.94L8.5 2.5l-.94 2.06-2.06.94zm10 10l.94 2.06.94-2.06 2.06-.94-2.06-.94-.94-2.06-.94 2.06-2.06.94z\"/><path d=\"M17.41 7.96l-1.37-1.37c-.4-.4-.92-.59-1.43-.59-.52 0-1.04.2-1.43.59L10.3 9.45l-7.72 7.72c-.78.78-.78 2.05 0 2.83L4 21.41c.39.39.9.59 1.41.59.51 0 1.02-.2 1.41-.59l7.78-7.78 2.81-2.81c.8-.78.8-2.07 0-2.86zM5.41 20L4 18.59l7.72-7.72 1.47 1.35L5.41 20z\"/>\n",
              "  </svg>\n",
              "      </button>\n",
              "      \n",
              "  <style>\n",
              "    .colab-df-container {\n",
              "      display:flex;\n",
              "      flex-wrap:wrap;\n",
              "      gap: 12px;\n",
              "    }\n",
              "\n",
              "    .colab-df-convert {\n",
              "      background-color: #E8F0FE;\n",
              "      border: none;\n",
              "      border-radius: 50%;\n",
              "      cursor: pointer;\n",
              "      display: none;\n",
              "      fill: #1967D2;\n",
              "      height: 32px;\n",
              "      padding: 0 0 0 0;\n",
              "      width: 32px;\n",
              "    }\n",
              "\n",
              "    .colab-df-convert:hover {\n",
              "      background-color: #E2EBFA;\n",
              "      box-shadow: 0px 1px 2px rgba(60, 64, 67, 0.3), 0px 1px 3px 1px rgba(60, 64, 67, 0.15);\n",
              "      fill: #174EA6;\n",
              "    }\n",
              "\n",
              "    [theme=dark] .colab-df-convert {\n",
              "      background-color: #3B4455;\n",
              "      fill: #D2E3FC;\n",
              "    }\n",
              "\n",
              "    [theme=dark] .colab-df-convert:hover {\n",
              "      background-color: #434B5C;\n",
              "      box-shadow: 0px 1px 3px 1px rgba(0, 0, 0, 0.15);\n",
              "      filter: drop-shadow(0px 1px 2px rgba(0, 0, 0, 0.3));\n",
              "      fill: #FFFFFF;\n",
              "    }\n",
              "  </style>\n",
              "\n",
              "      <script>\n",
              "        const buttonEl =\n",
              "          document.querySelector('#df-697576ab-b2bd-420d-8f41-4f590b19a5a6 button.colab-df-convert');\n",
              "        buttonEl.style.display =\n",
              "          google.colab.kernel.accessAllowed ? 'block' : 'none';\n",
              "\n",
              "        async function convertToInteractive(key) {\n",
              "          const element = document.querySelector('#df-697576ab-b2bd-420d-8f41-4f590b19a5a6');\n",
              "          const dataTable =\n",
              "            await google.colab.kernel.invokeFunction('convertToInteractive',\n",
              "                                                     [key], {});\n",
              "          if (!dataTable) return;\n",
              "\n",
              "          const docLinkHtml = 'Like what you see? Visit the ' +\n",
              "            '<a target=\"_blank\" href=https://colab.research.google.com/notebooks/data_table.ipynb>data table notebook</a>'\n",
              "            + ' to learn more about interactive tables.';\n",
              "          element.innerHTML = '';\n",
              "          dataTable['output_type'] = 'display_data';\n",
              "          await google.colab.output.renderOutput(dataTable, element);\n",
              "          const docLink = document.createElement('div');\n",
              "          docLink.innerHTML = docLinkHtml;\n",
              "          element.appendChild(docLink);\n",
              "        }\n",
              "      </script>\n",
              "    </div>\n",
              "  </div>\n",
              "  "
            ],
            "text/plain": [
              "   index     id                                          Statement  Label\n",
              "0      0  46438  Video Exaggerates 9 Public Sector Banks Could ...      0\n",
              "1      1  36016  BJP keeps MPs on toes ï¿½ from Article 370 mee...      1"
            ]
          },
          "metadata": {},
          "execution_count": 4
        }
      ]
    },
    {
      "cell_type": "code",
      "metadata": {
        "colab": {
          "base_uri": "https://localhost:8080/"
        },
        "id": "Cay-7SBa3J8u",
        "outputId": "90c59665-639a-404a-d659-195c4b38d2ba"
      },
      "source": [
        "\n",
        "messages=df.copy()\n",
        "import nltk\n",
        "nltk.download('stopwords')\n",
        "from nltk.corpus import stopwords\n",
        "from nltk.stem.porter import PorterStemmer\n",
        "import re\n",
        "ps = PorterStemmer()\n",
        "corpus = []\n",
        "for i in range(0, len(messages)):\n",
        "    review = re.sub('[^a-zA-Z]', ' ', messages['Statement'][i])\n",
        "    review = review.lower()\n",
        "    review = review.split()\n",
        "    \n",
        "    review = [ps.stem(word) for word in review if not word in stopwords.words('english')]\n",
        "    review = ' '.join(review)\n",
        "    corpus.append(review)\n",
        "corpus\n"
      ],
      "execution_count": null,
      "outputs": [
        {
          "output_type": "stream",
          "name": "stdout",
          "text": [
            "[nltk_data] Downloading package stopwords to /root/nltk_data...\n",
            "[nltk_data]   Unzipping corpora/stopwords.zip.\n"
          ]
        },
        {
          "output_type": "execute_result",
          "data": {
            "text/plain": [
              "['video exagger public sector bank could collaps bad',\n",
              " 'bjp keep mp toe articl meet diwali ayushman bharat beneficiari',\n",
              " 'five dead injur plastic factori explos west bengal malda',\n",
              " 'ansari aid gun encount',\n",
              " 'delhi court pull riot accus repres lawyer mehmood pracha play fraud',\n",
              " 'peac tranquil along lac deepli disturb impact india china tie jaishankar',\n",
              " 'presid ram nath kovind visit akshaya patra kitchen vrindavan serv mid day meal children',\n",
              " 'fact check viral video inconsider handl decompos bodi',\n",
              " 'fact check sri lankan woman offer prayer sabarimala rs',\n",
              " 'covid caseload mount lakh',\n",
              " 'aap ident punjab need allianc amarind tell congress chief rahul',\n",
              " 'book week',\n",
              " 'congress find mahagathbandhan fix legaci staunch critic jayaprakash narayan',\n",
              " 'baba ramdev biopic come attack social media',\n",
              " 'covid itali start vaccin januari',\n",
              " 'hospit hand bodi wrong famili staffer suspend',\n",
              " 'golden templ donat ppe kit ventil',\n",
              " 'sc ask trial court expedit hear case foreign tablighi jamaat member',\n",
              " 'fact check video man burqa arrest',\n",
              " 'absent ground focus onlin rahul gandhi covid strategi contrast bjp',\n",
              " 'bihar sp work sushant singh rajput case appoint cbi',\n",
              " 'popul asiat lion gir almost pc pm tweet good news',\n",
              " 'everyon right test assur amit shah parti meet coronaviru situat delhi',\n",
              " 'sell multipl long term asset also claim tax deduct',\n",
              " 'cpm congress join hand bengal assam poll',\n",
              " 'deliber attack pakistan indian fishermen new delhi issu strong demarch',\n",
              " 'pm modi pay tribut bir chilarai sant ravida',\n",
              " 'fact check bjp shivraj singh chouhan go take digvijay singh bhopal',\n",
              " 'rahul gandhi hold four ralli jharkhand first monday',\n",
              " 'fact check american beat trump dummi amid georg floyd protest indian millionair celebr modi victori throw bill new york fact check',\n",
              " 'punjab cm write pm modi seek fiscal aid save live livelihood',\n",
              " 'kolkata shahid minar purifi gangaj amit shah ralli',\n",
              " 'fact check video chines tourist pangong tso lake share mislead claim',\n",
              " 'ist consign covid vaccin reach u khand',\n",
              " 'fact check iit kanpur order probe determin faiz poem hum dekheng anti hindu fact check amanatullah khan tweet doctor give commun twist',\n",
              " 'gadkari confid india get covid vaccin earli possibl',\n",
              " 'pm svanidhi centr launch letter recommend modul street vendor',\n",
              " 'chines attack modi inch chest imag pm succumb say rahul gandhi',\n",
              " 'tapovan tunnel rescu work temporarili suspend due surg water level dhauli ganga',\n",
              " 'home minist amit shah speak cm seek view extens lockdown',\n",
              " 'fact check viral photo claim rajiv rahul gandhi read islam prayer indira gandhi funer fals',\n",
              " 'place poor modi suit boot govt say rahul gandhi mp elect ralli',\n",
              " 'suprem court keep justic kureshi appoint matter pend',\n",
              " 'preserv life prioriti sc refus interfer calcutta hc firecrack ban',\n",
              " 'delhi record fresh coronaviru case talli',\n",
              " 'fact check us presid joe biden call pm modi world honorari degre pm narendra modi retract news',\n",
              " 'farooq govt land grabber list',\n",
              " 'power bengal communist take stock want leav religion rss',\n",
              " 'du close till may varsiti employe ask download aarogya setu app',\n",
              " 'sundar pichai post facebook post indian polit',\n",
              " 'without plan commiss state centr need forum polici dialogu n k singh',\n",
              " 'trade union lend support bharat bandh call farmer decemb',\n",
              " 'lac standoff india blame china breach agreement',\n",
              " 'ganesh chaturthi celebr begin low key note covid dampen spirit',\n",
              " 'tiktok star turn bjp leader sonali phogat thrash offici slipper haryana',\n",
              " 'top tweet shazia ilmi want read',\n",
              " 'fact check old pic kcr ramadan gift muslim goe viral mislead claim',\n",
              " 'shabbir ali call fight telangana cm kcr dictatori regim',\n",
              " 'ed invest ex tmc mp kd singh role narada sting oper parti leader',\n",
              " 'nitish refrain attack chirag',\n",
              " 'armi offic take pm modi measur',\n",
              " 'bjp vinod agraw disrespect tricolour truth',\n",
              " 'telangana may wit shortag polic personnel lok sabha elect',\n",
              " 'fact check hima da famili celebr victori',\n",
              " 'modi shah divert attent econom slowdown rais divis issu sonia gandhi',\n",
              " 'fact check bjp lost seat vote multipl bjp candid get ident vote',\n",
              " 'delhi law minist jitend singh tomar',\n",
              " 'silicon valley star teacher tamil nadu say busi new start rural school',\n",
              " 'live fear hope case solv soon say sippi sidhu kin',\n",
              " 'video show polic offic attack member hindu organis india west bengal',\n",
              " 'watch bailey bridg collaps weight move truck jcb machin near indo china border',\n",
              " 'fact check uk politician tweet mislead infograph favour farm law fact check fake letter flood social media poll bound mp',\n",
              " 'viral test bjp mla chase beaten voter',\n",
              " 'nomin anglo indian mla could save kumaraswami govt karnataka trust vote',\n",
              " 'fact check aap leader protest farm law fact check kamala harri extend support protest farmer',\n",
              " 'fake alert max hospit ghaziabad seal due',\n",
              " 'fact check old video mamata banerje scream share claim reaction ahead fact check viral video rishi kapoor shot night pass away',\n",
              " 'pm modi new offici aircraft missil defenc system flown iaf pilot',\n",
              " 'old photograph polic personnel throw stone share delhi polic',\n",
              " 'alpesh thakor congress obc leader gujarat mla quit parti',\n",
              " 'photo share celebr wayanad rahul gandhi poll victori',\n",
              " 'soyabean price inch closer msp farmer follow wait watch polici offload product',\n",
              " 'nadda say rule caa readi soon',\n",
              " 'cbi ye bank founder got rs cr bribe',\n",
              " 'tejasvi surya lead bjp charg bengal call mamata govt fascist kolkata ralli',\n",
              " 'fact check andhra pradesh govern third standard telugu textbook lesson jesu',\n",
              " 'kerala custom arrest sivasankar gold smuggl case',\n",
              " 'economi like enter technic recess first time histori rbi',\n",
              " 'cctv footag man stab death delhi madipur share fals muslim angl',\n",
              " 'indian chines armi work schedul next round militari talk mea border standoff',\n",
              " 'fact check iaf conduct airstrik nepal jet shot fact check iaf conduct airstrik nepal jet shot',\n",
              " 'ravi shastri bottl jack world cup',\n",
              " 'fact check video crowd surat share delhi daryaganj',\n",
              " 'shiv sena send strong allianc messag invit cm fadnavi foundat day',\n",
              " 'sonia rahul manmohan singh sachin pilot congress list star campaign bihar poll',\n",
              " 'manipur govern declar drought like situat',\n",
              " 'childcar home lack measur prevent child abus govt report',\n",
              " 'selena gomez chef fun time',\n",
              " 'punjab lack assur price basmati hold back shell industri blossom full potenti',\n",
              " 'video dhol tasha perform spain share old video gujarat share fals rohingya bangladeshi',\n",
              " 'kashmir leader shah faesal book psa join long list detaine includ ex cm',\n",
              " 'covid pc rise recoveri last day',\n",
              " 'violent goatman hoax make comeback time haryana',\n",
              " 'state must seek permiss hire migrant say yogi adityanath govt set migrat commiss',\n",
              " 'fact check nepali youth protest prime minist lobbi china support',\n",
              " 'rhea accus sushant sister specul cbi',\n",
              " 'punjab edu dept recommend class std ix xii three hour day amarind take final call',\n",
              " 'fact check belgian citi terror link muslim popul fact check belgian citi terror link muslim popul',\n",
              " 'congress back j k allianc want unconstitut decis august rescind',\n",
              " 'fact check uttar pradesh cm yogi adityanath laugh martyr funer fact check former karnataka cm siddaramaiah lookalik',\n",
              " 'polic team attack tri arrest murder accus',\n",
              " 'american artist video share millionair shower cash bjp victori',\n",
              " 'assam tet applic invit teacher elig appli till septemb ssa assam gov',\n",
              " 'covid ground postpon bihar poll suprem court',\n",
              " 'auto driver pm narendra modi brother fact check',\n",
              " 'fact check rss man held wave pakistani flag burqa',\n",
              " 'fresh covid case take delhi talli death toll climb',\n",
              " 'video woman vandalis shop viral fals commun spin',\n",
              " 'activist tribal caus ban sou area',\n",
              " 'bihar assembl elect heard bjp campaign song bihar ee baa',\n",
              " 'fact check assam govern announc free admiss colleg amid covid',\n",
              " 'covid made india realis need strong healthcar system say health minist harsh vardhan',\n",
              " 'fact check babi dalai lama mahatma gandhi',\n",
              " 'lathicharg student jamia librari torch bike factcheck',\n",
              " 'kerala final open door tourist across globe strict covid norm follow',\n",
              " 'fact check video cm laugh front',\n",
              " 'priyanka raga break lockdown regul truth behind photograph break tear dhoni got',\n",
              " 'rrb je admit card releas region websit step download admit card',\n",
              " 'fact check nepal soldier gun indian soldier ceasefir violat',\n",
              " 'lalu miss poster yuva tejashwi lord parti',\n",
              " 'maharashtra bjp oppos mva govt everi move sake sena mp raut',\n",
              " 'coronaviru alert uttarakhand',\n",
              " 'aaj tak attempt whitewash fake quot broadcast show',\n",
              " 'india gdp declin sharpli q fy worst contract record',\n",
              " 'polic mock drill hajipur jail viral policeman infect coronaviru',\n",
              " 'pm modi address grand final smart india hackathon tomorrow',\n",
              " 'ambiti veteran threaten derail congress parti rajasthan mp',\n",
              " 'anand bhawan swaraj bhawan jawahar planetarium get rs crore tax notic',\n",
              " 'punjab cm amarind singh back singer shree brar arrest promot gun cultur',\n",
              " 'muslim politician disguis hindu anti caa protest commun charg speech muslim cleric reviv recent',\n",
              " 'k new covid case report last hour lakh lakh activ case',\n",
              " 'governor malik jump gun dissolv j k assembl advantag congress nc',\n",
              " 'kerala govt issu pass tippler withdraw symptom amid coronaviru lockdown',\n",
              " 'fact check bjp leader pankaja mund tear lose maharashtra poll fact check bjp pankaja mund cri defeat',\n",
              " 'commun blackout pakistan saw spike kashmir youth join milit',\n",
              " 'jitendra singh call good govern j k',\n",
              " 'fact check viral video show captain deepak sath air india express pilot sing',\n",
              " 'stray dog beaten death fir lodg secur guard upscal societi ludhiana',\n",
              " 'mushroom classroom bihar school fight econom crisi',\n",
              " 'old incid rajasthan share muslim man thrash saffron terrorist mob baroda',\n",
              " 'nitish kumar master art remain top polit chart',\n",
              " 'maharashtra held attack polic vandal sillod',\n",
              " 'consist improv area manag without burn paddi stubbl pau',\n",
              " 'delhi custom seiz smuggl cigarett worth rs lakh igi airport',\n",
              " 'china claim indian soldier fire warn shot cross line actual control',\n",
              " 'integr arm forc inevit say armi chief mm naravan',\n",
              " 'covid remdesivir includ investig therapi restrict emerg use clarifi health ministri',\n",
              " 'delhi elect result aap set take capit rd time kejriw offer prayer hanuman templ',\n",
              " 'australia express strong support india nsg membership bid',\n",
              " 'agenda silenc replac agenda allianc',\n",
              " 'farm bill chidambaram say pm distort congress manifesto promis',\n",
              " 'fact check social activist anna hazar join bjp',\n",
              " 'sc reject pil seek withdraw z secur mukesh ambani famili',\n",
              " 'malala pose son isra defenc minist',\n",
              " 'former chief armi navi airforc claim arm forc use polit gain',\n",
              " 'rememb madonna cone bra made debut',\n",
              " 'rahul gandhi altern narendra modi say rajasthan cm ashok gehlot',\n",
              " 'set jpc look rafal deal say aap petition sanjay singh',\n",
              " 'unpreced crisi telecom industri sunil mittal agr issu',\n",
              " 'vika dubey encount mean bjp govt',\n",
              " 'punjab report case death',\n",
              " 'adri patna shaibal gupta die bihar cm nitish announc last rite state honour',\n",
              " 'media outlet announc former pm atal bihari vajpaye death prematur',\n",
              " 'cpi ml liber cpi cpi make mark bihar elect take lead seat',\n",
              " 'nirmala sitharaman kiran mazumdar shaw forb list power women',\n",
              " 'congress big plan take yogi adityanath cow day care centr',\n",
              " 'allahabad hc reserv order hathra case ask cbi file statu report',\n",
              " 'imran skip sco meet chines premier li attend',\n",
              " 'ed attach asset mirchi kin',\n",
              " 'old nottingham video serv food contamin human faec surfac fact check',\n",
              " 'isf want aimim allianc left congress refus',\n",
              " 'fact check video policeman remov sikh man turban',\n",
              " 'woman threw dirti water cm kejriw campaign',\n",
              " 'two death new coronaviru case report rajasthan state talli',\n",
              " 'best hindutva quot lesson surviv acch din',\n",
              " 'ginner expect produc lakh bale brand kasturi cotton season',\n",
              " 'repeal modi govt harden stanc tell protest farmer let sc settl matter',\n",
              " 'region experi widespread thunderstorm rain',\n",
              " 'nurs rahul gandhi met wayanad present birth viral tweet call scam',\n",
              " 'fact check conspiraci theori claim covid vaccin caus new strain uk',\n",
              " 'chai pe charcha bjp launch tiffin pe charcha district uttar pradesh',\n",
              " 'piyush goyal spark twitter storm video recit kalma surfac',\n",
              " 'press cancel twice atm prevent pin theft viral messag viral whatsapp audio claim month lock india fake',\n",
              " 'rafal aircraft make debut republ day flypast carri brahmastra format',\n",
              " 'china communist parti threat world say former elit insid',\n",
              " 'india enter crucial two week period today chidambaram coronaviru pandem',\n",
              " 'interview haryana bku chief dushyant chautala snap tie alli bjp',\n",
              " 'need worri bank close six day',\n",
              " 'injur mumbai cylind godown blast',\n",
              " 'somnath bharti say modi respons disappear ganga activist sant gopal da',\n",
              " 'countri covid case conduct x test india',\n",
              " 'indian medic associ write pm modi convey gratitud',\n",
              " 'amit shah meet kejriw l g tomorrow review covid situat amid spike case death delhi',\n",
              " 'tejashwi say nitish tire jd u bjp hit back',\n",
              " 'bankrupt dhfl ordinari fd holder lose money bank support',\n",
              " 'unsc india vow work global peac',\n",
              " 'photo hybrid human pig creatur',\n",
              " 'fact check netizen confus popular blogger emot post love fact check netizen confus popular blogger emot post love',\n",
              " 'speed ayushman bharat',\n",
              " 'cede galwan valley oust pla shiv sena priyanka chaturvedi question centr',\n",
              " 'indian ambassador vikram misri hold anoth meet beij',\n",
              " 'first week fresh case drop k',\n",
              " 'congress slam presid rule maharashtra term mock democraci constitut',\n",
              " 'fact check viral graphic claim pm modi never impos presid rule',\n",
              " 'fake passport websit india check full list avoid',\n",
              " 'fact check old pictur policeman beaten kanpur',\n",
              " 'migrant pelt stone polic public ahmedabad',\n",
              " 'monsoon onset kerala june imd',\n",
              " 'galwan valley clash capt seek end hindi cheeni bhai bhai charad want weapon men border',\n",
              " 'see precaut scottish school take children return class',\n",
              " 'die covid delhi posit rate per cent',\n",
              " 'wajahat habibullah file shaheen bagh blockad solut affidavit suprem court',\n",
              " 'polic deal case chapter iv drug cosmet act sc',\n",
              " 'govt approv rs crore atal bhujal yojana ground water resourc cover villag',\n",
              " 'keep idea input come pm modi urg peopl ahead mann ki baat',\n",
              " 'hyderabad flood old photo fals share congress leader cab protest photo muslim youth desecr amar jawan',\n",
              " 'court convict former union minist dilip ray other coal scam',\n",
              " 'french ambassador say countri announc except packag india fight covid',\n",
              " 'fake alert believ doctor video abp news anchor rubika',\n",
              " 'student eager impress teacher deep lack aptitud obama rahul gandhi',\n",
              " 'dr reddi reappli dcgi conduct phase clinic trial russian covid vaccin',\n",
              " 'amu scientist discov protein form cancer liver',\n",
              " 'januari round polit snipe continu unab',\n",
              " 'fact check viral advisori coronaviru issu health ministri',\n",
              " 'sc dismiss devendra fadnavi review plea verdict face trial poll affidavit',\n",
              " 'prime minist narendra modi hold second part interact cm discuss situat post unlock',\n",
              " 'ia offic tina dabi file complaint fake fb account name fir regist',\n",
              " 'adolf hitler said burn aliv wrong speech essen',\n",
              " 'congress contest seat fact check',\n",
              " 'govt made mistak choos jnu enemi kanhaiya kumar violenc',\n",
              " 'viral test kerala pfi suppli sword attack hindu',\n",
              " 'viral video modi mock funer india pakistan',\n",
              " 'aap audit hindutva b team jnusu kanhaiya kumar prosecut',\n",
              " 'drag collar akali leader dare cong kamal nath name delhi campaign list',\n",
              " 'motor vehicl amend bill govt introduc stringent penalti road safeti',\n",
              " 'lockdown end state come vari guidelin eas curb',\n",
              " 'learn ladakh experi armi step work cut acclimatis period troop',\n",
              " 'akhilesh yadav claim samajwadi parti win seat',\n",
              " 'obc panel visit du seek detail fund spent faculti roster quota seat',\n",
              " 'bjp mla madhya pradesh host hotel near delhi',\n",
              " 'shashi tharoor yuva desh share photo jawaharl nehru visit',\n",
              " 'inspir gulli boy punjab ia offic poll messag post milleni',\n",
              " 'fact check fake imag pakistani pm strip search us airport',\n",
              " 'west bengal governor hit mamata humili brief regularli',\n",
              " 'mumbai bmc book penalis peopl step without face mask',\n",
              " 'borrow opt resolut covid relat stress loan requir submit specif plan rbi sc',\n",
              " 'giriraj singh quot fake news websit term congress world nd corrupt parti',\n",
              " 'fact check old pictur chines aggress pass recent crisi ladakh',\n",
              " 'fake alert upsc exam cancel due covid',\n",
              " 'saar jaha se accha gandhistan humara',\n",
              " 'fact check sfi worker fake injuri violenc jnu',\n",
              " 'protest bengal cop pull sikh man turban bjp march',\n",
              " 'oppn attack centr disha ravi arrest say india silenc bjp justifi action',\n",
              " 'day give birth ghaziabad offic covid return offic newborn tow',\n",
              " 'right amit shah infect coronaviru',\n",
              " 'murder accus held year jump bail',\n",
              " 'promin telangana child right activist p achyuta rao succumb coronaviru',\n",
              " 'photo jame bond movi actress pass sonia gandhi',\n",
              " 'fact check heat gener candl kill coronaviru fact check inhal steam kill coronaviru',\n",
              " 'ib secur assist result declar soon mha gov step check result',\n",
              " 'congress leader rahul gandhi get troll twitter recent video',\n",
              " 'russian covid vaccin test india month',\n",
              " 'includ yoga part onlin learn programm vice presid venkaiah naidu',\n",
              " 'delhi youth congress peddl old assault video kuala lumpur',\n",
              " 'haryana student rewari test posit school shut three day',\n",
              " 'presid nomin ex cji ranjan gogoi rajya sabha opposit ask quid pro quo',\n",
              " 'lancet report oxford astrazeneca vaccin safe question',\n",
              " 'gdp shrink expect say govt',\n",
              " 'fact check nepal shoot indian spi quadcopt',\n",
              " 'fact check drink cold drink mix ebola viru infect blood',\n",
              " 'beer cost less rajasthan april',\n",
              " 'believ pictur pm modi take dip',\n",
              " 'db buyout lakshmi vila bank show india bank sector open sitharaman say',\n",
              " 'stagger entri distanc sop theme park',\n",
              " 'crack road hous damag magnitud earthquak jolt mizoram pm assur help',\n",
              " 'hc direct govt consid grant disabl benefit defenc offic traine par civilian offic',\n",
              " 'gupkar allianc condemn nia raid greater kashmir ngo j k',\n",
              " 'fact check old video india china face share',\n",
              " 'priya ramani right accus sexual assault prove mj akbar',\n",
              " 'test demand rapid antigen test peopl live contain zone icmr new guidelin',\n",
              " 'fact check truth behind thrill video skydiv claim indian armi',\n",
              " 'fact check girl beauti voic relat kishor kumar fact check girl beauti voic relat kishor kumar',\n",
              " 'fact check viral video crowd hyderabad market pakistan fact check viral video mudslid india',\n",
              " 'congress leader hardik patel arrest evad sedit case trial',\n",
              " 'india japan hold strateg dialogu focu expand collabor third countri',\n",
              " 'india covid talli past lakh mark delhi record highest number fatal day death',\n",
              " 'bjp congress candid file paper last day',\n",
              " 'vardhan stress invest health special focu rural area',\n",
              " 'lac standoff armi strengthen domin strateg height pangong lake area',\n",
              " 'rajasthan cm gehlot suspend meet month mani staff test posit',\n",
              " 'nasa develop rain cloud gener factcheck',\n",
              " 'vigilant fring need terroris rather terroris india leader bjp alli',\n",
              " 'tension assam mizoram border sever injur violent clash',\n",
              " 'photo show member organ traffick gang arrest vizag fals',\n",
              " 'britain mp urg bori johnson rais farmer protest pm modi',\n",
              " 'madra hc ask centr state govt repli feb quota',\n",
              " 'man kill disput drug consumpt accus arrest',\n",
              " 'advertis delhi govt provid aid muslim',\n",
              " 'fact check fake ministri tourism circular claim restaur shut',\n",
              " 'video ex us presid work server fake fact check viral photo rss member attack man fake',\n",
              " 'old video pakistan share atroc kashmiri',\n",
              " 'former intern archer jayantil nanoma die road mishap',\n",
              " 'oxford vaccin produc strong immun even older adult',\n",
              " 'fact check amitabh bachchan visit haji ali dargah recov coronaviru fals fact check man seen amitabh bachchan viral photo cong leader ashok chavan dawood ibrahim',\n",
              " 'fact check pakistani naval ship ram indian vessel recent indian navi submarin chase away claim pakistan fact check',\n",
              " 'real photo india main opposit leader eat biryani prime minist pakistan',\n",
              " 'rhea complaint attempt take reveng rajput sister',\n",
              " 'yogi adityanath govt announc rs assist daili wager amid covid',\n",
              " 'fact check protest cab moham ali rd mumbai',\n",
              " 'madhya pradesh cm shivraj chouhan brother law join congress',\n",
              " 'involv pulwama attack say pakistan',\n",
              " 'section verdict pave way devoid mental health right',\n",
              " 'bjp mp sakshi maharaj put day home quarantin violat covid norm',\n",
              " 'protest suprem court rule job quota',\n",
              " 'plastic aashirvaad atta gluten factcheck',\n",
              " 'viru still around drop guard amid festiv rush pm',\n",
              " 'govt say doctor covid duti die shock ima peg number',\n",
              " 'oppn also thought improv farm law lack courag pm modi',\n",
              " 'one held transport beef worth rs lakh thane',\n",
              " 'vssc recruit applic invit technician apprentic post mhrdnat gov',\n",
              " 'fact check sushant death get dawood link social media',\n",
              " 'tata group hire anyon jnu truth',\n",
              " 'congress video pm modi relationship china includ old photo japanes pm shinzo abe',\n",
              " 'vajpaye demis end era continu one arun jaitley',\n",
              " 'imag gold smuggl protest kerala viral farmer protest',\n",
              " 'pm modi announc internet ban due covid misinform fact check pm modi announc anoth covid lockdown',\n",
              " 'paytm kyc suspend phish scam empti wallet',\n",
              " 'fact check pictur koala',\n",
              " 'gurugram liquor vend special queue women senior citizen corona warrior',\n",
              " 'mulayam ask akhilesh bring soda shivpal bring snack crucial compromis formula meet',\n",
              " 'cadburi chocol contamin hiv tell fake',\n",
              " 'dggi gurugram offici arrest man defraud exchequ excess rs crore',\n",
              " 'pm modi say new india spare target soldier',\n",
              " 'jadhav engag pakistan lawyer court',\n",
              " 'beij art exhibit glorifi china covid respons',\n",
              " 'scheme special micro credit facil pm svanidhi launch street vendor',\n",
              " 'believ fake news priyanka nick get divorc',\n",
              " 'kashmiri politician hide srinagar hotel instead campaign',\n",
              " 'bjp leader kapil mishra share report claim chines soldier die galwan',\n",
              " 'coffe serv kerala covid ward keep kettl near bodi probe order',\n",
              " 'fake alert man shown imag tallest man earth',\n",
              " 'pm modi address nine crore farmer today clarifi centr posit farm law',\n",
              " 'fact check believ news demis former',\n",
              " 'sexagenarian held propos give love letter teen',\n",
              " 'fact check viral imag cabl car fire accid palestin haridwar',\n",
              " 'lebanon capit citi rock explos',\n",
              " 'cbi regist separ case firm defraud pnb rs cr',\n",
              " 'tspsc group hall ticket releas tspsc gov download admit card',\n",
              " 'reason arvind kejriw get anoth chanc',\n",
              " 'dialogu pompeo esper meet pm modi india visit next week',\n",
              " 'india hit oic kashmir refer',\n",
              " 'govern offici gujarat pledg boycott muslim own shop',\n",
              " 'year old girl molest year old neighbour delhi',\n",
              " 'ayush kwath kadha cannot boost immun fight covid',\n",
              " 'union minist say pesticid usag reduc cotton yield increas',\n",
              " 'conch shell blown sc premis jai shri ram chant greet verdict',\n",
              " 'restraint languag must maintain bihar poll union minist ram vila paswan',\n",
              " 'ratifican rafael correa como aspirant la vicepresidencia de ecuador',\n",
              " 'hathra bhatta parsaul polic tri stop rahul gandhi protest',\n",
              " 'kolkata polic bust sex racket disguis spa arrest tolli actor other',\n",
              " 'real photo india main opposit leader eat biryani prime minist pakistan real photo tsunami support indian prime minist narendra modi',\n",
              " 'nadda appoint bjp work presid amit shah remain parti presid',\n",
              " 'rebel shatrughan sinha lose ravi shankar prasad patna sahib stick bjp',\n",
              " 'fake pass bengal violenc imag pakistan',\n",
              " 'man book sodomis year old son maharashtra thane',\n",
              " 'home ministri away permiss state run shramik special train',\n",
              " 'peopl test posit covid rajasthan friday',\n",
              " 'delhi riot politico like salman khurshid brinda karat gave provoc speech say c sheet',\n",
              " 'new pakistan pm imran khan given opportun say former j k cm mehbooba',\n",
              " 'immedi withdraw new farm bill tmc agit mamata banerje warn centr',\n",
              " 'good thing ramdev patanjali new medicin coronaviru need ayush ministri permiss union minist',\n",
              " 'fact check truth behind bandra railway station gather accus vinay dubey',\n",
              " 'navi australia india japan unit state take part phase exercis malabar',\n",
              " 'delhi lieuten governor allow releas jessica lal murder case convict manu sharma',\n",
              " 'rajinikanth launch parti januari fight tamil nadu assembl poll',\n",
              " 'pak releas andhra fishermen jan arrest charg espionag',\n",
              " 'india test meet nation secur challeng eam jaishankar border standoff china',\n",
              " 'fact check fake tweet mn chief raj thackeray support kangana',\n",
              " 'record infect push india covid talli lakh',\n",
              " 'angri mob pelt stone pak nankana sahib gurdwara devote insid india protest',\n",
              " 'greater noida residenti complex seal test posit covid resid protest',\n",
              " 'fake degre case polic custodi jitend tomar extend till june',\n",
              " 'kejriw report card delhi aap govt fare manifesto promis',\n",
              " 'social media claim divid three state truth',\n",
              " 'unrel imag video go viral amritsar train driver suicid',\n",
              " 'cm gehlot slam door pilot call worthless',\n",
              " 'govt name scheme sit shutdown shut india shashi tharoor',\n",
              " 'pmo help fix internet maharashtra student attend onlin class without interrupt',\n",
              " 'tamil nadu announc extens coronaviru lockdown till june major relax continu ban religi place',\n",
              " 'delhi face third wave coronaviru kejriw',\n",
              " 'fact check truth behind viral post modi',\n",
              " 'paint mamata sold promot ponzi compani cbi tell sc petit',\n",
              " 'ramnath goenka publish proprietor journalist instinct',\n",
              " 'fact check badruddin ajmal say hindu wipe aiudf come power assam',\n",
              " 'modi address articl terrorist pro pak separatist shift kashmir agra',\n",
              " 'india everyth help human fight covid modi',\n",
              " 'use thrown away say nc mp new front readi look past articl',\n",
              " 'return home famili agre divorc say tej pratap yadav',\n",
              " 'birthday boy sidhu second capt resolut get bitter return later',\n",
              " 'fact check believ pictur ranu mandal meet lata mangeshkar amitabh bachchan say thing viral pictur',\n",
              " 'netizen celebr th birth anniversari rabindranath tagor onlin perform amid coronaviru lockdown',\n",
              " 'covid dharavi case count rise nine',\n",
              " 'six held stubbl burn saharanpur fir file mau varanasi azamgarh',\n",
              " 'cpm leader sitaram yechuri swipe centr rail fare lpg hike',\n",
              " 'sino india border situat tough us talk india china help trump',\n",
              " 'indian household bank account say bjp million survey india trump fan entir us survey',\n",
              " 'rope carri essenti lifelin home quarantin famili corona warrior',\n",
              " 'medium intens earthquak hit ladakh',\n",
              " 'viral fake news pakistan flag wave congress ralli karnataka',\n",
              " 'anti caa protest pass peac meerut divis',\n",
              " 'unabl pay rent migrant commit suicid gurugram',\n",
              " 'fact check old video india china faceoff share recent clash',\n",
              " 'erad nawab nizam cultur hyderabad amit shah',\n",
              " 'educ ministri relax criteria admiss b architectur',\n",
              " 'tamil nadu cm palaniswami seek fund fight pandem',\n",
              " 'presid ram nath kovind mention covid galwan r day chao address parliament',\n",
              " 'covid lakh peopl quarantin across india highest number',\n",
              " 'fact check rahul gandhi retract promis loan waiver claim aadhaar enabl payment work till april fals',\n",
              " 'major impact ola uber driver strike delhi',\n",
              " 'hoaxpos minist share pictur korean float solar plant claim kerala fact check rewa solar power plant asia largest solar power project claim pm modi',\n",
              " 'accus write sp hint honour kill',\n",
              " 'mahatma gandhi commit suicid question ask gujarat school',\n",
              " 'claim green strip posit rs currenc note true fact check',\n",
              " 'ayodhya verdict six litig set file review petit suprem court',\n",
              " 'mp woman die give birth th babi',\n",
              " 'cop bihar hajipur contract covid truth',\n",
              " 'old video russia resurfac fail missil test conduct',\n",
              " 'fact check pune golden boy pass mk stalin grandson facebook',\n",
              " 'hanuman beniw quit nda farm law rlp fifth parti split allianc',\n",
              " 'fact check bajrang dal stage protest uttar pradesh',\n",
              " 'pulwama terror attack nia arrest one accus',\n",
              " 'railway minist piyush goyal mother chandrakanta goyal die leader offer condol',\n",
              " 'sonia lead cm take govt gst due exam row',\n",
              " 'in khanderi india nd scorpen submarin commiss defens minist',\n",
              " 'fact check delhi elect fake aap candid list goe viral',\n",
              " 'liquor shop reopen maharashtra red zone',\n",
              " 'old video cabl car fire palestin pass haridwar saffron sea templ demolit fake news menac time elect',\n",
              " 'india china commit disengag lac',\n",
              " 'hathra woman late night cremat violat human right hc',\n",
              " 'biden stand india counter border threat',\n",
              " 'fake india armi undertak spray exercis kill coronaviru',\n",
              " 'fact check plane land truck due',\n",
              " 'nia arrest two aircraft carrier theft',\n",
              " 'cement tie bangladesh indian envoy',\n",
              " 'set victori rajasthan chhattisgarh congress soften stand evm tamper',\n",
              " 'nasa name indian american bhavya lal act chief staff',\n",
              " 'bangladesh elect chief rule fresh poll opposit alleg',\n",
              " 'import respect peac protest un chief spokesman tractor ralli violenc delhi',\n",
              " 'langar wheel delhi sikh commun dish thousand meal',\n",
              " 'lalu still hold sway yadav vote big question bihar time',\n",
              " 'us commend india move declar azhar saeed lakhvi dawood terrorist new law',\n",
              " 'bjp win gangoh bypol wafer thin margin',\n",
              " 'fact check trump pay tribut singer madonna instead maradona fact check hima da famili celebr win',\n",
              " 'imag farmer suicid protest closur thermal plant',\n",
              " 'fact check rss activist stab ia offic rape',\n",
              " 'section gone wind bollywood celebr new begin',\n",
              " 'nearli k peopl die railway track hit train yr',\n",
              " 'fact check heart stop video landslid goe viral wrong claim',\n",
              " 'bjp leader arrest west bengal make offici drink cow urin combat covid',\n",
              " 'hostel watchman kill year old student pee outsid toilet bhopal',\n",
              " 'fact check truth behind mother fox feed koala australia bushfir',\n",
              " 'lk advani claim vote congress',\n",
              " 'fact check old imag egyptian child kidnapp pass jamia protest fact check video self immol pass rss men set christian coupl fire',\n",
              " 'paswan misus post elig minist aap',\n",
              " 'jharkhand cm raghubar da conced defeat cong jmm allianc cross major',\n",
              " 'covid impact india borrow nearli rs crore world bank support vulner section',\n",
              " 'kejriw report card delhi aap govt fare manifesto promis',\n",
              " 'pictur wall full air condition',\n",
              " 'sweden riot start muslim man rape minor video show hindu sibl assault muslim men attempt rape india',\n",
              " 'viral video woman beaten elev delhi metro',\n",
              " 'sonia plan lingayat divis postcard delet fake stori',\n",
              " 'covid patient end life jump rd floor aiim',\n",
              " 'indian scientist make space brick urea creat habit structur moon',\n",
              " 'yogi adityanath decid name mughal museum shivaji say mughal hero',\n",
              " 'work pak hindu templ site halt',\n",
              " 'decis yet hold parliament session parliamentari affair minist pralhad joshi',\n",
              " 'video indo us armi exercis viral independ day indo us militari exercis viral live action kashmir',\n",
              " 'bjp invok vajpaye funer woo bitter alli shiv sena uddhav remain stern',\n",
              " 'scientist dead karachi bomb blast tweet parodi account goe viral',\n",
              " 'vand bharat mission air india first flight singapor passeng land delhi igi airport',\n",
              " 'muslim intent lick cutleri plate eid hindu eat fact check fact check video man put spit bread packet old india',\n",
              " 'fact check pm modi imag photoshop along starv woman africa',\n",
              " 'jail isi conspiraci case',\n",
              " 'fact check viral pictur polic brutal farmer show half truth',\n",
              " 'may pitch short term r project say niti',\n",
              " 'india clear debt world bank',\n",
              " 'fact check biden ignor india invit neighbour fake quot manag prove object fair',\n",
              " 'multipl peak road ahead expert covid insight book',\n",
              " 'rickshaw driver return bag contain lakh pune coupl',\n",
              " 'indian outfit win un award effort combat climat chang amid covid',\n",
              " 'jyotiraditya scindia back modi govt kashmir move list congress dissent grow',\n",
              " 'china bigger threat india pakistan sharad pawar',\n",
              " 'madhya pradesh eight infant die shahdol hospit day probe order',\n",
              " 'cyclon weaken may enter mp southern part imd',\n",
              " 'tree grow car overnight art instal',\n",
              " 'pankaja mund dare bjp beed show strength slam parti say quit',\n",
              " 'person data user target pegasu say govt',\n",
              " 'delhi elect protest shaheen bagh continu',\n",
              " 'iaf pilot wg cdr abhinandan varthaman mannequin display pakistan air forc war museum',\n",
              " 'fact check three ip offic sibl fall',\n",
              " 'scuttl transpar elect commiss respond rti onlin applic',\n",
              " 'punjab spl vidhan sabha session resolut condemn centr farm law',\n",
              " 'bjp call ljp vote katua appeas nitish chirag',\n",
              " 'india make demand u exchang export',\n",
              " 'gauhati high court grant divorc wife refus wear sindoor shaka',\n",
              " 'congress kuldeep bishnoi slam ghulam nabi azad publicli rais intern parti matter',\n",
              " 'india readi share resourc indian ocean region presid',\n",
              " 'pm mother hiraben show anti modi messag fact check fact check shiv sena member assault idbi bank manag',\n",
              " 'work congress bit piec prashant kishor say punjab poll',\n",
              " 'suprem court handl bodi horrend',\n",
              " 'idea simultan poll need serious consid say vice presid naidu',\n",
              " 'rel larg covid outbreak notic particular locat health ministri',\n",
              " 'fact check man pictur udaya chamar',\n",
              " 'shivraj final pick minist top bjp man scindia loyalist among aid covid fight',\n",
              " 'architect bjp tripura win bengal wrest mamata kolkata bastion',\n",
              " 'west bengal cm alleg bjp attempt religi convers state',\n",
              " 'cabinet approv msp rabi crop market season',\n",
              " 'seek ban muslim bodi pfi mamata govt distanc organis',\n",
              " 'amid lockdown punjab suffer fall revenu april say cm amarind singh',\n",
              " 'govt advis use valv n mask say prevent spread viru',\n",
              " 'imag highlight pothol west bengal share poor road uttar pradesh fact check old pictur flood odisha share bihar',\n",
              " 'activist tribal caus ban sou area',\n",
              " 'fact check video monkey invad south africa gandhi hospit video monkey creat havoc hospit ward india',\n",
              " 'shiromani akali dal quit nda due differ controversi farm bill',\n",
              " 'ministri railway issu protocol travel post lockdown fact check union govt revok power polic grant bail',\n",
              " 'fact check fake video share defam muslim commun spread coronaviru',\n",
              " 'tmc mp derek brien tri tear rule book heckl presid offic rs proceed',\n",
              " 'locust attack pose threat crop rajasthan mp worst impact farmer alert',\n",
              " 'congress polit sometim say sandeep dikshit echo sanjay jha concern',\n",
              " 'bjp add lakh member delhi poll near hope toppl kejriw aap govt',\n",
              " 'defenc ministri shortlist firm build six convent submarin india',\n",
              " 'coronaviru pandem live india report new infect hr take talli dead',\n",
              " 'vivek tiwari case fake sleazi photo circul malign tiwari eye wit colleagu',\n",
              " 'covid unlock noida greater noida prohibitori order extend till aug',\n",
              " 'india conduct larg scale militari exercis next week',\n",
              " 'old video pakistan showcas spread across current situat kashmir',\n",
              " 'video show jnu student chant explet campu',\n",
              " 'fact check man bandag eye viral ex armyman injur farmer protest',\n",
              " 'farmer protest noida delhi border close vehicl farmer western head delhi',\n",
              " 'citizenship amend act protest track far fact check anti encroach drive jaipur pass polic action nrc',\n",
              " 'fourth phase lockdown account nearli half total covid case india',\n",
              " 'support bjp balochistan video bjp candid ralli kashmir',\n",
              " 'bjp launch fresh attack congress alleg sonia gandhi divert pmnrf money famili run foundat',\n",
              " 'amid india china stand quad member send warship malabar exercis next month',\n",
              " 'india covid talli reach death toll countri goe lockdown',\n",
              " 'rahul gandhi statement intent leav countri went viral',\n",
              " 'old video fals viral us student sing indian nation anthem thank india hcq',\n",
              " 'overnight rain gusti wind bring mercuri delhi',\n",
              " 'jawaharl nehru preciou legaci undermin daili say sonia gandhi',\n",
              " 'fact check islamophob news headlin kerala cricket azharuddeen fake fact check news channel misreport common man congress mla anil upadhyay',\n",
              " 'kejriw aap play polit migrant rail fare bihar minist sanjay jha',\n",
              " 'mp congress mla masood book promot enmiti',\n",
              " 'post azhar push pak bid list three indian terror sponsor',\n",
              " 'kangana sister face case tweet',\n",
              " 'nine migrant worker found dead well hyderabad gorrekunta villag',\n",
              " 'aviat ministri present propos airport privatis cabinet wed puri',\n",
              " 'ex mizoram governor other book cheat case',\n",
              " 'messag claim coronaviru live surfac hour',\n",
              " 'derogatori paint krishna pass recent fact check old imag bangladesh fals circul depict miser life indian slum',\n",
              " 'best human stripe hyena cub nurtur adulthood indira gandhi zoolog park vishakhapatnam',\n",
              " 'mitten cat could becom new zealand year',\n",
              " 'educ min releas ncert week altern academ calendar upper primari class',\n",
              " 'two labour die injur accid railway construct site guwahati',\n",
              " 'nation water award maharashtra adjudg second best water manag',\n",
              " 'fact check viral photo protest caa',\n",
              " 'half viru case state spread contain vardhan',\n",
              " 'india abil balanc china risk get growth rate back ashley telli',\n",
              " 'rahul gandhi exempt court appear defam case',\n",
              " 'delhi district court recruit applic invit variou post appli till octob delhidistrictcourt nic',\n",
              " 'coconut oil protect human dengu fever fact check',\n",
              " 'monsoon may arriv delhi punjab hp june',\n",
              " 'fault read full text rahul gandhi letter resign',\n",
              " 'opposit slam interim budget jumblebaz manifesto',\n",
              " 'fact check aamir khan meet pakistani terrorist truth fact check aamir khan meet presid turkey recent',\n",
              " 'modi defend farm bill inaugur rail project bihar',\n",
              " 'mea summon high commiss pakistan condemn interrog physic assault staffer',\n",
              " 'recoveri exceed activ covid case lakh case fatal drop per cent',\n",
              " 'photo protest gold smuggl case kerala share farmer protest',\n",
              " 'hesit shoot arm crimin jharkhand dgp polic personnel',\n",
              " 'italian adult entitl financi support parent court rule',\n",
              " 'pakistani fb page share old manufactur video plight indian soldier disput china',\n",
              " 'famili member rubbish video claim jharkhand lynch victim wife',\n",
              " 'record k fatal day death rate',\n",
              " 'popular kannada film director yesteryear vijay reddi dead',\n",
              " 'ed attach dubai asset mirchi famili',\n",
              " 'victim train accid left without inform administr employ say jalna sp',\n",
              " 'old unrel video share bjp leader beg rajnath singh repeal farm bill',\n",
              " 'man dmk prez mk stalin grandson',\n",
              " 'heavi rain delay prune grape season like start late',\n",
              " 'person home quarantin shall send selfi govt everi hour karnataka minist',\n",
              " 'challeng stalin win elect lone brother',\n",
              " 'itr form notifi',\n",
              " 'madhya pradesh cm suspend two cop assault sikh man',\n",
              " 'even pakistan handl covid better india rahul gandhi take dig centr imf project',\n",
              " 'fact check mainstream media fall crazi satir stori viagra fill river',\n",
              " 'kangana ranaut properti demolit bombay hc pronounc verdict nov',\n",
              " 'wikileak issu name indian black money fact check video pakistani men uproot sapl share fals',\n",
              " 'coin releas east india compani truth fake east india compani coin hindu god reviv ayodhya',\n",
              " 'video infant woman dead bodi dug ground unrel delhi riot',\n",
              " 'aishwarya aaradhya admit hospit',\n",
              " 'fact check viral video massiv crowd bengaluru market shot year',\n",
              " 'ruin economi began demonetis govt introduc erron polici rahul',\n",
              " 'stalin deliber slander aiadmk govt say tamil nadu cm palaniswami',\n",
              " 'iaf afcat admit card releas today afcat cdac download admit card',\n",
              " 'man pictur tallest man fake alert man shown imag tallest man earth',\n",
              " 'delhi head janpath bid final farewel ram vila paswan',\n",
              " 'old report rbi grant licenc bank china share recent',\n",
              " 'bhagavad gita class compulsori netherland',\n",
              " 'aiadmk dmk gear assembl elect',\n",
              " 'fact check whatsapp introduc three tick indic govern surveil',\n",
              " 'fact check truth behind morph pictur pm',\n",
              " 'fact check two year old news zainab merchant forc show blood stain sanitari pad boston airport resurfac fact check old video deer play sea resurfac unrel covid lockdown',\n",
              " 'kanpur dalit teen murder uncl arrest polic',\n",
              " 'maharashtra woman held kill three month old son',\n",
              " 'tamil nadu inch closer assembl elect rajini float parti six month',\n",
              " 'firozabad bjp leader get rs k demand minist fake facebook account polic',\n",
              " 'key provis section ibc news',\n",
              " 'jpc quizz paytm china invest',\n",
              " 'indian engin student found dead sharjah',\n",
              " 'hoaxpos video show sever head child prank say rajasthan polic',\n",
              " 'pm launch ayushman bharat pm jay sehat extend coverag resid jammu kashmir',\n",
              " 'peopl test covid posit largest singl day spike case',\n",
              " 'first eight indian beach get blue flag statu',\n",
              " 'congress surjewala share imag nepal new india delet later',\n",
              " 'photo ab ki baar modi sarkar roti reviv lockdown',\n",
              " 'pm modi address amu centenari celebr decemb',\n",
              " 'delhi sco meet sent posit signal china',\n",
              " 'fake news round week',\n",
              " 'mehbooba fate fragil secur trial volatil anantnag readi vote phase',\n",
              " 'video show peopl infect coronaviru china scream help',\n",
              " 'baap avam rap form coalit upcom delhi elect',\n",
              " 'unusu death sonipat cop probe spuriou liquor link',\n",
              " 'allot bed covid patient within minut face action andhra cm offici',\n",
              " 'priest bodi condemn move court lord krishna birthplac disput',\n",
              " 'bounti monsoon rain set boost india agricultur growth',\n",
              " 'aaditya thackeray speak cut tree metro depot pet project alli bjp',\n",
              " 'advertis delhi govt provid aid muslim',\n",
              " 'iockdown three month fact check fact check magic number covid patient',\n",
              " 'pm modi inaugur agra metro project today',\n",
              " 'amitabh bachchan starrer satyagraha play rajasthan elect',\n",
              " 'fals claim suggest sunni central waqf board build babri hospit appoint dr kafeel khan',\n",
              " 'day rajasthan cm claim higher hors trade rate cong mla shift jaisalm',\n",
              " 'bewar kalonji seed cannot cure coronaviru fall fake',\n",
              " 'migrant worker want return citi sc told',\n",
              " 'bengal govt might opt centr one nation one ration card scheme',\n",
              " 'rahul final reach amethi promis action helicopt fli parti leader',\n",
              " 'aiadmk announc e palaniswami cm candid tn poll get member steer committe',\n",
              " 'shiv sena slam satya pal malik remark governor call insult peopl j k',\n",
              " 'new case punjab',\n",
              " 'fact check mexico send five alpha plane fact check yo migrat syria',\n",
              " 'hostel quarantin centr yerawada jail inmat',\n",
              " 'fact check covid prescript medanta gurugram goe viral',\n",
              " 'platform question public everi indian right convey view ravi shankar prasad',\n",
              " 'smriti irani degre row abp news anchor defend minist falsehood',\n",
              " 'nation activ covid case drop lakh month half',\n",
              " 'modi shah discuss bjp elect strategi cm thrust welfar move migrant',\n",
              " 'sorri us envoy india apologis desecr mahatma gandhi statu washington',\n",
              " 'chart must know budget',\n",
              " 'india covid talli cross lakh mark lowest singl day death report month',\n",
              " 'trust modi govt handl covid crisi well',\n",
              " 'fact check photo jyotiraditya scindia hold oper lotu document real fact check imag ambedkar bu unit state morph',\n",
              " 'centr toler hrd minist ramesh pokhriy student lead anti caa protest',\n",
              " 'probe order assam bajrang dal leader threat beat hindu visit church christma',\n",
              " 'dharavi global role model covid manag uddhav thackeray prais asia largest slum',\n",
              " 'indian soldier seiz claim china day releas armymen detain galwan valley clash',\n",
              " 'india protest pakistan move construct dam pakistan occupi kashmir',\n",
              " 'india china agre earli complet disengag de escal lac',\n",
              " 'fact check video waterfal bride',\n",
              " 'hansa research group file polic complaint ex employe trp issu',\n",
              " 'hot air hair dryer cannot kill coronaviru inhal hot steam kill coronaviru',\n",
              " 'newsmobil sunday wrap',\n",
              " 'suicid go back old econom order mohd yunu tell rahul gandhi',\n",
              " 'exercis kavach train joint oper andaman sea conduct next week',\n",
              " 'muslim panel ayush ministri respons restrict patanjali',\n",
              " 'fact check conspiraci theori claim covid vaccin caus new strain uk fact check blood clot main reason covid death claim conspiraci theori',\n",
              " 'p balasubrahmanyam sang gener hero rememb gener',\n",
              " 'farm law help bring barrier agricultur associ sector pm modi amid protest',\n",
              " 'fact check video bk iyengar share pm modi perform yoga fact check video bk iyengar share pm modi perform yoga',\n",
              " 'hyderabad girl meet accid texa seek financi help',\n",
              " 'audio video doctor includ chant support indian opposit politician',\n",
              " 'modi dare congress make someon outsid famili parti presid',\n",
              " 'india bjp focus upcom srilanka bangladesh elect',\n",
              " 'imf g warn recoveri may derail risk still high',\n",
              " 'namak loyalti silent voter could keep nitish kumar afloat despit massiv odd',\n",
              " 'pendenc state payment shramik special train railway',\n",
              " 'peopl go home complet day quarantin kashmir',\n",
              " 'pm modi condol demis former delhi polic chief ved marwah',\n",
              " 'video alleg evm malfunct civic poll viral lok sabha elect',\n",
              " 'arvind kejriw keen celebr victori bhagwant mann',\n",
              " 'restrict sunday due covid yogi adityanath govern lift curb',\n",
              " 'ashok gehlot cabinet draft propos seek rajasthan assembl session august',\n",
              " 'nitish kumar master craftsman realpolitik believ polit art possibl',\n",
              " 'problem bihar healthcar system tackl',\n",
              " 'fact check centr cancel newspap titl remov',\n",
              " 'congress promis investig rafal deal modi rule vote power',\n",
              " 'fact check idol goddess saraswati andhra pradesh',\n",
              " 'fate hang balanc ljp claim prove worth bihar',\n",
              " 'govt invok odd even formula two gmc princip',\n",
              " 'congress member tweet video tourist chines side pangong tso indian side',\n",
              " 'deliber attempt vitiat peac atmospher jammu region j k muslim activist',\n",
              " 'ink thrown aap mp sanjay singh hathra',\n",
              " 'fake twitter account creat dr kafeel khan wife shabista khan name',\n",
              " 'baba ramdev get oper germani fact',\n",
              " 'traffic signal mumbai cross road heavi rain video china viral',\n",
              " 'fact check viral photo share fals claim queen radhika raje baroda becom jain',\n",
              " 'imag hindu deiti ram billboard time squar photoshop',\n",
              " 'post first indian woman select nasa indian astronaut select go mar new rupe note',\n",
              " 'fact check karnataka bjp share fake letter involv sonia gandhi',\n",
              " 'date photo suicid spain fals link coronaviru child kidnap rumour india spread syria imag pak',\n",
              " 'entir kashmir valley treat covid red zone',\n",
              " 'bjp fear hathra may dent prospect bihar mp',\n",
              " 'jharkhand scholarship scam fraud went uncheck even red flag wave centr state',\n",
              " 'assess govt work covid sonia gandhi ask state chief',\n",
              " 'rememb bal thackeray polit cartoonist metamorphos polit fanat',\n",
              " 'fact check netizen fight stun waterfal truth',\n",
              " 'warn eat cabbag coronaviru remain longest video china buri pig old relat corona viru',\n",
              " 'truth sting claim shaheen bagh women paid rs alt news newslaundri joint investig',\n",
              " 'photo pakistan februari indian airstrik photo show attack hindu muslim indian state west bengal',\n",
              " 'mumbai hyderabad drug racket bust',\n",
              " 'centr engag nscn im last leg naga peac talk',\n",
              " 'kolkata metro increas daili servic extend time decemb',\n",
              " 'fact check fountain power om girl hold placard fact',\n",
              " 'fake pic yogi adityanath polic file fir two',\n",
              " 'cricket match give peek ahm patel tackl parti polit politician',\n",
              " 'court send samajwadi parti leader azam khan wife son jail seven day',\n",
              " 'virgin atlant start flight manchest mumbai delhi',\n",
              " 'chart know richest mp lok sabha fact check bbc never call bjp corrupt parti world',\n",
              " 'fact check video clash rajasthan fals link protest',\n",
              " 'would hire someon resum chief minist',\n",
              " 'quintessenti politician cherish sagac',\n",
              " 'dgca issu detail refund guidelin sc verdict',\n",
              " 'gangster vika dubey close aid rel kill encount',\n",
              " 'rahul gandhi pour love say need hate polit oppon',\n",
              " 'happen dark friday night bjp pull coup maharashtra timelin',\n",
              " 'est mirador te permit flotar en medio de una cascada en noruega cnn',\n",
              " 'photo violent protest bangladesh peddl kerala',\n",
              " 'photo doctor includ slogan support indian farmer',\n",
              " 'ask analyst foreign minist jaishankar school rahul gandhi india foreign polici',\n",
              " 'media specul rhea chakraborti motiv mischiev actress lawyer',\n",
              " 'fact check hanuman idol excav land alloc babri masjid ayodhya fact check sunni waqf board decid build babri hospit acr land allot ayodhya',\n",
              " 'covid vaccin hesit india sinc dec wait till decid survey',\n",
              " 'imag ursula andress jame bond movi resurfac sonia gandhi photograph',\n",
              " 'rift bihar nda ljp fire leader call nda intact',\n",
              " 'sc reject plea seek inquiri conduct ex cji ranjan gogoi judg',\n",
              " 'opindia lie fals claim alt news want publish major gaurav arya rebutt articl',\n",
              " 'modi modi modi bjp mp mention pm time parliament speech presid address',\n",
              " 'congress blame diplomat failur face china',\n",
              " 'rajinikanth isabel hupert honour th intern film festiv goa',\n",
              " 'farmer hunker border standoff',\n",
              " 'pregnant woman die ambul noida probe order',\n",
              " 'hc vacat stay public book asaram convict',\n",
              " 'fact check bewar viral imag tricolour burn india',\n",
              " 'bjym abhijat mishra fals claim illeg bangladeshi attack bihari famili west bengal',\n",
              " 'see plight children longer want becom farmer',\n",
              " 'run websit true pictur',\n",
              " 'rhea brother showik chakraborti sushant rajput hous manag arrest ncb',\n",
              " 'govt crore rural home get tap water telangana top',\n",
              " 'rahul gandhi priyanka identifi crop leav would leav polit gajendra singh shekhawat',\n",
              " 'rajya sabha seat includ amit shah go poll march',\n",
              " 'bjp offer rs crore rajasthan cong mla gehlot',\n",
              " 'last dusu presid',\n",
              " 'retir cop kill self shoot son twice domest issu',\n",
              " 'fact check union railway minist piyush goyal mislead countri claim nobodi starv last',\n",
              " 'old photo taken march protest northern indian citi lucknow',\n",
              " 'gujarat govt chang name daytim electr scheme farmer kisan suryoday yojana',\n",
              " 'row erupt kmc map show aksai chin pok part india',\n",
              " 'low pressur area andaman bay bengal expect intensifi depress',\n",
              " 'pm mother hiraben show anti modi messag fact check',\n",
              " 'believ viral messag free ride scheme',\n",
              " 'fact check pm modi realli avers colour green shashi tharoor alleg',\n",
              " 'polit farm issu team monitor stage decid speaker',\n",
              " 'sii seek govt nod unblind trial data volunt ask got vaccin placebo',\n",
              " 'pm prez pay tribut atal bihari vajpaye birth anniversari pm releas book bjp stalwart',\n",
              " 'air marshal v r chaudhari take chief iaf western air command',\n",
              " 'bjp mla karni singh vandalis ambedkar statu truth',\n",
              " 'year old video canada refus visa indian armi offic',\n",
              " 'pm modi launch km long rewari madar section western dedic freight corridor',\n",
              " 'simul video firework pass display mumbai',\n",
              " 'two terrorist kill secur forc overnight oper j k shopian district',\n",
              " 'sensationalist comment celebr accur respons mea rihanna tweet',\n",
              " 'kamal haasan parti websit regist cayman island tax',\n",
              " 'central govern constitut nation council transgend person',\n",
              " 'mob beat mental challeng young man suspect child thief mental challeng youngster beaten mob mistook child kidnapp',\n",
              " 'epfo assist admit card releas epfindia gov exam conduct juli',\n",
              " 'lowest possibl covid infect via air travel offici',\n",
              " 'iim sambalpur get perman campu five year pm lay foundat stone',\n",
              " 'support peac india landmark us taliban deal',\n",
              " 'dept seiz rs crore cash raid hawala oper punjab haryana delhi',\n",
              " 'fact check ex armi man video support farmer protest share mislead claim',\n",
              " 'old photograph use project show strength pm modi west bengal ralli',\n",
              " 'cyclon nivar pm modi speak tn puducherri cm assur help',\n",
              " 'fake video compos travel mumbai apologis big b',\n",
              " 'ysr cong accus naidu violat lockdown norm',\n",
              " 'joke discourag vote bihar mla upset ec poll guidelin amid covid',\n",
              " 'fact check man beat cop viral video congress mla',\n",
              " 'vika dubey abscond aid arrest near mumbai',\n",
              " 'india becom member unsc one day jaishankar',\n",
              " 'jat muslim renew quota demand amid gurjar agit rajasthan',\n",
              " 'number speech everyth els need know friday confid motion',\n",
              " 'fact check telangana govern extend school holiday till octob',\n",
              " 'rahul gandhi say india troubl modi imaginari world fall apart',\n",
              " 'india regist new case covid death hour total talli',\n",
              " 'moderna covid shot effect late stage trial',\n",
              " 'kamal haasan ask pm modi explain need new parliament build half india hungri',\n",
              " 'mikaela shiffrin win reindeer name ingemar',\n",
              " 'fruit seller refus charg journo prais twitter',\n",
              " 'lockdown ram mandir bhoomi pujan day eid bjp say mamata govt punish hindu',\n",
              " 'thyrocar lab seal fals posit covid report',\n",
              " 'vice presid venkaiah naidu test posit covid',\n",
              " 'india rapid respons team reach kuwait underlin special friendship say jaishankar',\n",
              " 'crimin fear law administr priyanka gandhi write cm yogi adityanath',\n",
              " 'fact check satir post shiv sena new logo goe viral',\n",
              " 'day take oath bihar educ minist resign corrupt taint',\n",
              " 'surgeri india may cancel due covid',\n",
              " 'modi govt pursu atma samarpan bharat privatis govt entiti psu say yechuri',\n",
              " 'govern take applic emerg use coronaviru vaccin today',\n",
              " 'sc reject cur plea nirbhaya convict lawyer ask delhi court stay execut',\n",
              " 'muslim trader sadar bazaar area shut shop gurugram paint saffron',\n",
              " 'hindu anti india patriot basic charact say rss chief mohan bhagwat',\n",
              " 'congratul india effect demolish middl class famili rhea chakraborti father',\n",
              " 'mp man return home serv jail term pakistan',\n",
              " 'actor rhea book abet suicid',\n",
              " 'fake twitter account creat dr kafeel khan wife shabista khan name',\n",
              " 'fact check viral video woman abduct neither',\n",
              " 'mumbai key conspir arrest la face extradit india',\n",
              " 'ladakh made renew energi hub countri',\n",
              " 'china aggress ladakh claim real estat bhutan show intent pompeo',\n",
              " 'pm modi meet economist growth job trillion economi',\n",
              " 'gdp may contract wb',\n",
              " 'vaccin may effect south africa coronaviru strain say',\n",
              " 'fact check amit shah suffer bone cancer',\n",
              " 'woo industri disench china plan discuss matter embassi differ countri',\n",
              " 'priyanka gandhi defend cong chief say alway fought marginalis peopl',\n",
              " 'mp farmer turn millionair find rs lakh diamond',\n",
              " 'govern eas condit claim esic scheme benefit',\n",
              " 'oxford trial lousi readi cr covaxin dose year say bharat biotech',\n",
              " 'mani ratnam sign letter protest mob lynch factcheck',\n",
              " 'agp bjp betray assam power student bodi aasu plan polit parti',\n",
              " 'alpesh thakor ralli video morph pro modi chant',\n",
              " 'statement made offic central state agenc ndp act inadmiss sc',\n",
              " 'viral test deadli rumour spread via whatsapp group',\n",
              " 'un civil war ceasefir resolut applic kashmir maoist hit area',\n",
              " 'nhrc notic mha amnesti op',\n",
              " 'fact check netizen slam author tarek fatah call inzamam th man mullah twitter',\n",
              " 'ensur scindia loyalist win face action bjp bl santhosh warn madhya pradesh leader',\n",
              " 'baba ka dhaba video peopl question youtub blogger edit bank statement',\n",
              " 'sc issu notic plea arrest kerala scribe way hathra',\n",
              " 'moga khalistan flag hoist tricolour desecr case nia take probe mha order file case',\n",
              " 'sail bokaro admit card releas oper cum technician traine post sail co download',\n",
              " 'prasad bjp tri destabilis maharashtra govt',\n",
              " 'ed princip special director simanchala dash get one year extens',\n",
              " 'presid mnangagwa defiant citizen protest violat use zimbabweanlivesmatt',\n",
              " 'googl wade market china realli want',\n",
              " 'viral imag indian tricolour kashmir lal chowk photoshop',\n",
              " 'bku lakhow chief suspend coordin committe move sc without consult group',\n",
              " 'covid spread top delhi privat hospit posit covid patient work princ hotel hyderabad',\n",
              " 'modi stake claim form second success nda govern',\n",
              " 'mayawati call centr move give quota weaker upper cast elect stunt',\n",
              " 'minor molest threaten unnao rape victim like fate',\n",
              " 'contest rajya sabha dy chairperson post keep feder aliv manoj jha',\n",
              " 'supriya sule prais raj thackeray stand modi govt say proud gut',\n",
              " 'poll expenditur limit candid amid covid',\n",
              " 'bjp alli rashtriya loktantrik parti mp beniw join farmer protest rajasthan',\n",
              " 'despit star stud campaign greater hyderabad municip corpor elect regist low poll',\n",
              " 'fact check fake tweet pranab mukherje attribut indian journalist',\n",
              " 'work win vote modi tell bjp mp',\n",
              " 'shift coronaviru patient vehicl triag area min delhi govt issu new rule hospit',\n",
              " 'photo poor indian child suffer cancer indian nurs suffer wuhan coronaviru read fact panick',\n",
              " 'pakistan armi chief back imran khan peac build initi india',\n",
              " 'parliament pass bill salari cut minist mp member demand mplad restor',\n",
              " 'cipla sun pharma lupin drug price watchdog new list firm overcharg consum',\n",
              " 'ladakh feel warmth winter conclav freez temperatur',\n",
              " 'viral messag fals claim bank close everi saturday start june st',\n",
              " 'jssc excis constabl answer key releas jssc nic rais object',\n",
              " 'rajya sabha approv amend insolv bankruptci code',\n",
              " 'farm bill passag huge blow feder chidambaram',\n",
              " 'new zealand pm visit hindu templ ahead nation elect viral covid spin',\n",
              " 'tata son move sc nclat order reinstat cyru mistri compani chairman',\n",
              " 'fact check unesco declar pm modi best prime',\n",
              " 'coronaviru lockdown migrant worker found cram two contain truck maharashtra',\n",
              " 'u khand flood govt collect dna sampl identif',\n",
              " 'fact check aysha renna tweet celebr pulwama attack arnab goswami said kill thousand articl scrap',\n",
              " 'ssc cpo pet pst result declar ssc nic direct link pdf given',\n",
              " 'vaccin rollout punjab set cold chain point',\n",
              " 'nec fund develop neglect section ne jitendra singh',\n",
              " 'former civil servant urg ec stall releas modi biopic elect result',\n",
              " 'respect women inculc uttar pardesh school boy',\n",
              " 'junior engin cbi net alleg sexual abus children',\n",
              " 'reduc gap rich poor take care world take care dalai lama',\n",
              " 'amfi want tax benefit retir plan',\n",
              " 'jd board congress field mallikarjun kharg rajya sabha seat karnataka',\n",
              " 'media misquot sunil gavaskar virat anushka social media erupt outrag',\n",
              " 'sabarimala templ year old girl stop darshan famili ask go without',\n",
              " 'fact check photo cyclist templ wall',\n",
              " 'gehlot write pm bid toppl govern name shekhawat',\n",
              " 'fact check nagma shook wrong leg twitter danc realiti show',\n",
              " 'expect disclosur pend crimin case contest media social media',\n",
              " 'infant die day last hour kota jk lone hospit om birla urg govt act sensit',\n",
              " 'rajnath singh launch mobil app ncc train',\n",
              " 'sport ministri hot water bia',\n",
              " 'fact check infant murder aligarh rape reveal post mortem report fact check woman hang viral post kill muslim',\n",
              " 'india china troop standoff near pangong lake ladakh end deleg level talk',\n",
              " 'maharashtra add record covid case day succumb',\n",
              " 'delhi may month c averag temperatur wef studi',\n",
              " 'kill bu truck collis andhra kurnool district',\n",
              " 'rahul gandhi discuss aap allianc delhi congress leader',\n",
              " 'govern ban pubg fall mislead post',\n",
              " 'former us prez barack obama work hotel photo blogger share ia topper introduc father',\n",
              " 'bjp target pawar ahead maharashtra poll rahul call polit opportun',\n",
              " 'modi arvind kejriw want forcibl retir corrupt delhi offici',\n",
              " 'fact check anim die bandipur forest fire',\n",
              " 'bjp kick row say murder convict attend kerala cm daughter wed',\n",
              " 'fact check old video bjp leader west bengal resurfac',\n",
              " 'fact check iceland countri without mosquito',\n",
              " 'templ ravan worship dusshera',\n",
              " 'defi whip tdp diwakar reddi stay away confid motion parliament',\n",
              " 'news graphic credit baghdadi death pm modi',\n",
              " 'neta profil parti wise',\n",
              " 'sc hear journalist vinod dua plea protect arrest sunday',\n",
              " 'man arrest rape minor odisha kendrapara',\n",
              " 'sc reject plea seek neet centr abroad',\n",
              " 'bjp confid obc leader alpesh thakor join soon congress confid',\n",
              " 'kamal nath outsid remark upset congress potenti alli',\n",
              " 'photo miss indian student islam state group fighter syria photo indian politician rahul gandhi meet pornstar usa',\n",
              " 'basic idea govern hold societi togeth modi quot shastri meet cm',\n",
              " 'fact check pakistan flag wave ashok gehlot ralli',\n",
              " 'fact vs fiction hindutva varta postcard news',\n",
              " 'berlin rahul gandhi say bjp rss divid india',\n",
              " 'rahul gandhi believ pakistan indian forc leader bjp respond congress attack',\n",
              " 'jk resid evacu maharashtra',\n",
              " 'modi poster boy pakistan rahul gandhi throw back jibe call rafal probe',\n",
              " 'studi studi confirm tax payer stupidest ignor fellow india',\n",
              " 'amid mp crisi kuldeep bishnoi say scindia lone congress member feel alien',\n",
              " 'court seek action taken report plea seek fir ramdev',\n",
              " 'video coupl swim insid hous full water prayagraj old video video girl burn aliv india go church',\n",
              " 'one pictur tell stori age congress parti',\n",
              " 'viral imag claim love jihad unconnect incorrect',\n",
              " 'key post priyanka scindia congress field young energet leader',\n",
              " 'video bu driver beaten maharashtra share commun angl amid delhi riot',\n",
              " 'break ground helipad tribal girl train itbp fli high hockey arena',\n",
              " 'rahul gandhi resign kill congress make india one parti countri',\n",
              " 'fact check old newspap clip share fals claim',\n",
              " 'video aap mla pankaj pushkar beaten mislead claim',\n",
              " 'tn polic rubbish postcard stori christian enter kaliyar',\n",
              " 'author wikipedia page vandalis time critic cover stori pm modi',\n",
              " 'cpi suspend rajasthan mla indisciplin rs poll',\n",
              " 'fact check woman pictur ajay devgn mother',\n",
              " 'raj thackeray mn hurt shiv sena also ncp congress bjp',\n",
              " 'covid death manipur mizoram nagaland sikkim far health ministri',\n",
              " 'rake coal fertilis lie idl railway',\n",
              " 'old profil pictur facebook user name zeeshan usmani made viral mislead peopl',\n",
              " 'yogi govt plan new law regul templ mosqu church keep tab donat',\n",
              " 'anim husbandri scam former rajasthan mla son held',\n",
              " 'pubg break tie china base tencent india oper',\n",
              " 'fact check govern announc lockdown delhi',\n",
              " 'car park chennai flyover ahead cyclon avoid repeat',\n",
              " 'respect isher command econom world strike',\n",
              " 'govt underutil public privat sector capac sonia gandhi covid',\n",
              " 'fact check pictur pm modi hold placard',\n",
              " 'warrant ap cm brother law recal',\n",
              " 'ram mandir built year cost rs crore say templ treasur',\n",
              " 'holland truth rafal two version say arun jaitley',\n",
              " 'imagin take flight unrel video fals share pilot',\n",
              " 'govern releas rs crore state toward measur air qualiti improv',\n",
              " 'govern soon releas relax advisori crippl real estat sector due lockdown',\n",
              " 'fact check old pictur us presid elect joe biden without mask fact check morph pictur us presid donald trump link',\n",
              " 'quot attribut former asi director fake',\n",
              " 'amid deterior economi congress worker dress graduat sell pakora',\n",
              " 'modi govt char dham project uttarakhand get african facelift except real fact check central govt provid job ek parivar ek naukri scheme',\n",
              " 'imag iaf chopper shower flower migrant worker along highway real',\n",
              " 'seek justic sushant singh rajput fadnavi like play activ role bihar poll',\n",
              " 'binay tamang anit thapa faction gjm protest bimal gurung darjeel',\n",
              " 'conspiraci threat delet post bjp leader bl santhosh angri twitter world',\n",
              " 'special train take migrant home telangana andhra pradesh',\n",
              " 'fact check pm modi claim crore hous built govern million toilet built claim india free open defec true',\n",
              " 'major wife complet train set join armi two year death',\n",
              " 'sachin pilot still hunt number stack gehlot govt rajasthan',\n",
              " 'fact check coimbator restaur serv biryani make hindu impot',\n",
              " 'kashmir ralli pm modi say allow abdullah mufti divid india',\n",
              " 'bihar poll bjp expect announc candid weekend',\n",
              " 'goa banana republ tourist must follow covid norm say state health minist',\n",
              " 'india get first chief defenc staff act princip militari advis defenc minist',\n",
              " 'grace period life insur polici extend till may',\n",
              " 'fact check graphic imag one year ago circul fact check old unrel imag share plight kashmir articl revok',\n",
              " 'worri unten situat bjp get minist mj akbar quit',\n",
              " 'bengal bjp worri amit shah nrc pitch help mamata win third term cm',\n",
              " 'rememb soldier guard border light diya pm modi',\n",
              " 'owaisi heckl parliament report use clickbait titl commun overton',\n",
              " 'fact check dubiou infograph state risk commun transmiss indian state propag media agenc present incomplet inform say us back india new farm law',\n",
              " 'rajiv gandhi name remov bhu campu',\n",
              " ...]"
            ]
          },
          "metadata": {},
          "execution_count": 5
        }
      ]
    },
    {
      "cell_type": "code",
      "metadata": {
        "id": "V5WDHYIu3gUl"
      },
      "source": [
        "from sklearn.feature_extraction.text import TfidfVectorizer\n",
        "tfidf_v=TfidfVectorizer(max_features=5000,ngram_range=(1,3))\n",
        "X=tfidf_v.fit_transform(corpus).toarray()\n"
      ],
      "execution_count": null,
      "outputs": []
    },
    {
      "cell_type": "code",
      "metadata": {
        "colab": {
          "base_uri": "https://localhost:8080/"
        },
        "id": "s3FIh8WyNCWn",
        "outputId": "acdf822c-4f32-4f65-ffed-22ed48b80420"
      },
      "source": [
        "\n",
        "X.shape\n"
      ],
      "execution_count": null,
      "outputs": [
        {
          "output_type": "execute_result",
          "data": {
            "text/plain": [
              "(56714, 5000)"
            ]
          },
          "metadata": {},
          "execution_count": 7
        }
      ]
    },
    {
      "cell_type": "code",
      "metadata": {
        "colab": {
          "base_uri": "https://localhost:8080/"
        },
        "id": "4PeaTy-zZ6hB",
        "outputId": "110ca0b8-7be4-4586-c1e4-e98bde482742"
      },
      "source": [
        "df.columns"
      ],
      "execution_count": null,
      "outputs": [
        {
          "output_type": "execute_result",
          "data": {
            "text/plain": [
              "Index(['id', 'Statement', 'Label'], dtype='object')"
            ]
          },
          "metadata": {},
          "execution_count": 8
        }
      ]
    },
    {
      "cell_type": "code",
      "metadata": {
        "id": "bruJHzyGZllX"
      },
      "source": [
        "y=df['Label']"
      ],
      "execution_count": null,
      "outputs": []
    },
    {
      "cell_type": "code",
      "metadata": {
        "id": "YGv_D6cNBkWA"
      },
      "source": [
        "\n",
        "from sklearn.model_selection import train_test_split\n",
        "X_train, X_test, y_train, y_test = train_test_split(X, y, test_size=0.33, random_state=0)"
      ],
      "execution_count": null,
      "outputs": []
    },
    {
      "cell_type": "code",
      "metadata": {
        "colab": {
          "base_uri": "https://localhost:8080/"
        },
        "id": "FLKZtsrZByS_",
        "outputId": "a967eeec-b50e-43c6-f565-ca4fcc52f16d"
      },
      "source": [
        "tfidf_v.get_feature_names()[:20]"
      ],
      "execution_count": null,
      "outputs": [
        {
          "output_type": "stream",
          "name": "stderr",
          "text": [
            "/usr/local/lib/python3.7/dist-packages/sklearn/utils/deprecation.py:87: FutureWarning: Function get_feature_names is deprecated; get_feature_names is deprecated in 1.0 and will be removed in 1.2. Please use get_feature_names_out instead.\n",
            "  warnings.warn(msg, category=FutureWarning)\n"
          ]
        },
        {
          "output_type": "execute_result",
          "data": {
            "text/plain": [
              "['aadhaar',\n",
              " 'aaditya',\n",
              " 'aaditya thackeray',\n",
              " 'aadmi',\n",
              " 'aaj',\n",
              " 'aaj tak',\n",
              " 'aam',\n",
              " 'aam aadmi',\n",
              " 'aamir',\n",
              " 'aamir khan',\n",
              " 'aap',\n",
              " 'aap govt',\n",
              " 'aap leader',\n",
              " 'aap mla',\n",
              " 'aatmanirbhar',\n",
              " 'aayog',\n",
              " 'abduct',\n",
              " 'abdullah',\n",
              " 'abhijit',\n",
              " 'abhinandan']"
            ]
          },
          "metadata": {},
          "execution_count": 11
        }
      ]
    },
    {
      "cell_type": "code",
      "metadata": {
        "colab": {
          "base_uri": "https://localhost:8080/",
          "height": 346
        },
        "id": "P_qm7a3vCixU",
        "outputId": "6e855d11-8936-409d-ae2f-1f9aadd64f0c"
      },
      "source": [
        "\n",
        "# remove bag_of_words\n",
        "import matplotlib.pyplot as plt\n",
        "def plot_confusion_matrix(cm, classes,\n",
        "                          normalize=False,\n",
        "                          title='Confusion matrix',\n",
        "                          cmap=plt.cm.Blues):\n",
        "    \"\"\"\n",
        "    See full source and example: \n",
        "    http://scikit-learn.org/stable/auto_examples/model_selection/plot_confusion_matrix.html\n",
        "    \n",
        "    This function prints and plots the confusion matrix.\n",
        "    Normalization can be applied by setting `normalize=True`.\n",
        "    \"\"\"\n",
        "    plt.imshow(cm, interpolation='nearest', cmap=cmap)\n",
        "    plt.title(title)\n",
        "    plt.colorbar()\n",
        "    tick_marks = np.arange(len(classes))\n",
        "    plt.xticks(tick_marks, classes, rotation=45)\n",
        "    plt.yticks(tick_marks, classes)\n",
        "\n",
        "    if normalize:\n",
        "        cm = cm.astype('float') / cm.sum(axis=1)[:, np.newaxis]\n",
        "        print(\"Normalized confusion matrix\")\n",
        "    else:\n",
        "        print('Confusion matrix, without normalization')\n",
        "\n",
        "    thresh = cm.max() / 2.\n",
        "    for i, j in itertools.product(range(cm.shape[0]), range(cm.shape[1])):\n",
        "        plt.text(j, i, cm[i, j],\n",
        "                 horizontalalignment=\"center\",\n",
        "                 color=\"white\" if cm[i, j] > thresh else \"black\")\n",
        "\n",
        "    plt.tight_layout()\n",
        "    plt.ylabel('True label')\n",
        "    plt.xlabel('Predicted label')\n",
        "from sklearn.naive_bayes import MultinomialNB\n",
        "classifier=MultinomialNB()\n",
        "from sklearn import metrics\n",
        "import numpy as np\n",
        "import itertools\n",
        "classifier.fit(X_train, y_train)\n",
        "pred = classifier.predict(X_test)\n",
        "score = metrics.accuracy_score(y_test, pred)\n",
        "print(\"accuracy:   %0.3f\" % score)\n",
        "cm = metrics.confusion_matrix(y_test, pred)\n",
        "plot_confusion_matrix(cm, classes=['FAKE', 'REAL'])\n",
        "\n"
      ],
      "execution_count": null,
      "outputs": [
        {
          "output_type": "stream",
          "name": "stdout",
          "text": [
            "accuracy:   0.926\n",
            "Confusion matrix, without normalization\n"
          ]
        },
        {
          "output_type": "display_data",
          "data": {
            "image/png": "[encoded data removed]",
            "text/plain": [
              "<Figure size 432x288 with 2 Axes>"
            ]
          },
          "metadata": {
            "needs_background": "light"
          }
        }
      ]
    },
    {
      "cell_type": "code",
      "metadata": {
        "id": "80KG-1f5R3XZ"
      },
      "source": [
        "\n",
        "\n",
        "\n",
        "\n",
        "#RANDOM FOREST"
      ],
      "execution_count": null,
      "outputs": []
    },
    {
      "cell_type": "code",
      "metadata": {
        "id": "w6Mg2KTD8HXJ"
      },
      "source": [
        "from sklearn.ensemble import RandomForestClassifier\n",
        "random = RandomForestClassifier(n_estimators=20)\n",
        "random.fit(X_train, y_train.values.ravel())\n",
        "rfc_pred = random.predict(X_test)"
      ],
      "execution_count": null,
      "outputs": []
    },
    {
      "cell_type": "code",
      "source": [
        "print(\"accuracy: {}%\".format(round(accuracy_score(y_test, rfc_pred)*100,2)))\n",
        "Random_Forest_accuracy = round(accuracy_score(y_test, rfc_pred)*100,2)"
      ],
      "metadata": {
        "id": "N6AjfUM6c1bX",
        "colab": {
          "base_uri": "https://localhost:8080/"
        },
        "outputId": "f34286b6-c575-4336-d77e-e4e63fc81732"
      },
      "execution_count": null,
      "outputs": [
        {
          "output_type": "stream",
          "name": "stdout",
          "text": [
            "accuracy: 93.34%\n"
          ]
        }
      ]
    },
    {
      "cell_type": "code",
      "metadata": {
        "id": "B3YYhuXsxAfu",
        "colab": {
          "base_uri": "https://localhost:8080/"
        },
        "outputId": "923dee60-3239-4117-a935-47019a955e44"
      },
      "source": [
        "print(classification_report(y_test,rfc_pred))"
      ],
      "execution_count": null,
      "outputs": [
        {
          "output_type": "stream",
          "name": "stdout",
          "text": [
            "              precision    recall  f1-score   support\n",
            "\n",
            "           0       0.93      0.88      0.90      6420\n",
            "           1       0.94      0.96      0.95     12296\n",
            "\n",
            "    accuracy                           0.93     18716\n",
            "   macro avg       0.93      0.92      0.93     18716\n",
            "weighted avg       0.93      0.93      0.93     18716\n",
            "\n"
          ]
        }
      ]
    },
    {
      "cell_type": "code",
      "source": [
        "print(\"accuracy: {}%\".format(round(accuracy_score(y_test, rfc_pred)*100,2)))\n",
        "Random_Forest_accuracy = round(accuracy_score(y_test, rfc_pred)*100,2)"
      ],
      "metadata": {
        "id": "Ft1o5PprhNox",
        "colab": {
          "base_uri": "https://localhost:8080/"
        },
        "outputId": "c00d24f1-0055-465d-e8da-06f21d64fde6"
      },
      "execution_count": null,
      "outputs": [
        {
          "output_type": "stream",
          "name": "stdout",
          "text": [
            "accuracy: 93.34%\n"
          ]
        }
      ]
    },
    {
      "cell_type": "code",
      "metadata": {
        "colab": {
          "base_uri": "https://localhost:8080/"
        },
        "id": "OPg8MVr_tKn5",
        "outputId": "a062d5c5-fd1b-49fa-a534-275d3354a31a"
      },
      "source": [
        "\n",
        "#from sklearn.metrics import accuracy_score \n",
        "print (\"Accuracy : \", metrics.accuracy_score(y_test,rfc_pred)*100 )"
      ],
      "execution_count": null,
      "outputs": [
        {
          "output_type": "stream",
          "name": "stdout",
          "text": [
            "Accuracy :  93.34259457148963\n"
          ]
        }
      ]
    },
    {
      "cell_type": "code",
      "metadata": {
        "id": "G5JiMq2sgbh3",
        "colab": {
          "base_uri": "https://localhost:8080/",
          "height": 35
        },
        "outputId": "0e3594f1-b082-4853-9972-9b7e7d5b3a26"
      },
      "source": [
        "review = re.sub('[^a-zA-Z]', ' ', df['Statement'][130])\n",
        "review = review.lower()\n",
        "review = review.split()\n",
        "    \n",
        "review = [ps.stem(word) for word in review if not word in stopwords.words('english')]\n",
        "review = ' '.join(review)\n",
        "review"
      ],
      "execution_count": null,
      "outputs": [
        {
          "output_type": "execute_result",
          "data": {
            "application/vnd.google.colaboratory.intrinsic+json": {
              "type": "string"
            },
            "text/plain": [
              "'maharashtra bjp oppos mva govt everi move sake sena mp raut'"
            ]
          },
          "metadata": {},
          "execution_count": 19
        }
      ]
    },
    {
      "cell_type": "code",
      "metadata": {
        "id": "X8SjtmnUgcDG"
      },
      "source": [
        "val = tfidf_v.transform([review]).toarray()"
      ],
      "execution_count": null,
      "outputs": []
    },
    {
      "cell_type": "code",
      "metadata": {
        "id": "fn0dPORLgcVW",
        "colab": {
          "base_uri": "https://localhost:8080/"
        },
        "outputId": "b1daa884-8a8c-48fa-f80a-26a806001ef9"
      },
      "source": [
        "random.predict(val)"
      ],
      "execution_count": null,
      "outputs": [
        {
          "output_type": "execute_result",
          "data": {
            "text/plain": [
              "array([1])"
            ]
          },
          "metadata": {},
          "execution_count": 21
        }
      ]
    },
    {
      "cell_type": "code",
      "metadata": {
        "id": "UtaDrHAngbDt"
      },
      "source": [
        "import pickle\n",
        "pickle.dump(random, open('model2.pkl', 'wb'))"
      ],
      "execution_count": null,
      "outputs": []
    },
    {
      "cell_type": "code",
      "metadata": {
        "id": "k36QJozUga64"
      },
      "source": [
        "pickle.dump(tfidf_v, open('tfidfvect2.pkl', 'wb'))"
      ],
      "execution_count": null,
      "outputs": []
    },
    {
      "cell_type": "code",
      "metadata": {
        "id": "j6R10n_KgZiU"
      },
      "source": [
        "joblib_model = pickle.load(open('model2.pkl', 'rb'))"
      ],
      "execution_count": null,
      "outputs": []
    },
    {
      "cell_type": "code",
      "metadata": {
        "id": "l2MgBNBkgZWt"
      },
      "source": [
        "joblib_vect = pickle.load(open('tfidfvect2.pkl', 'rb'))"
      ],
      "execution_count": null,
      "outputs": []
    },
    {
      "cell_type": "code",
      "metadata": {
        "id": "Ejko9v4mgYxN"
      },
      "source": [
        "val_pkl = joblib_vect.transform([review]).toarray()"
      ],
      "execution_count": null,
      "outputs": []
    },
    {
      "cell_type": "code",
      "metadata": {
        "id": "g8M1VbRggYQO",
        "colab": {
          "base_uri": "https://localhost:8080/"
        },
        "outputId": "80254544-f029-49de-aed4-bb27fe03fe84"
      },
      "source": [
        "joblib_model.predict(val_pkl)"
      ],
      "execution_count": null,
      "outputs": [
        {
          "output_type": "execute_result",
          "data": {
            "text/plain": [
              "array([1])"
            ]
          },
          "metadata": {},
          "execution_count": 27
        }
      ]
    },
    {
      "cell_type": "code",
      "metadata": {
        "id": "FkzH7GC9gYML"
      },
      "source": [
        ""
      ],
      "execution_count": null,
      "outputs": []
    },
    {
      "cell_type": "code",
      "metadata": {
        "id": "v4kUWqE8gYH2"
      },
      "source": [
        ""
      ],
      "execution_count": null,
      "outputs": []
    },
    {
      "cell_type": "code",
      "metadata": {
        "id": "5oIGloQZgYEE"
      },
      "source": [
        ""
      ],
      "execution_count": null,
      "outputs": []
    },
    {
      "cell_type": "code",
      "metadata": {
        "id": "Bn6y8e10gYAG"
      },
      "source": [
        ""
      ],
      "execution_count": null,
      "outputs": []
    },
    {
      "cell_type": "code",
      "metadata": {
        "id": "mgwC5ht0gX8J"
      },
      "source": [
        ""
      ],
      "execution_count": null,
      "outputs": []
    },
    {
      "cell_type": "code",
      "metadata": {
        "id": "kd2O9cxRgX4N"
      },
      "source": [
        ""
      ],
      "execution_count": null,
      "outputs": []
    },
    {
      "cell_type": "code",
      "metadata": {
        "id": "hjHq6Hi2gXyl"
      },
      "source": [
        ""
      ],
      "execution_count": null,
      "outputs": []
    },
    {
      "cell_type": "code",
      "metadata": {
        "id": "He6kRVQpgXuc"
      },
      "source": [
        ""
      ],
      "execution_count": null,
      "outputs": []
    },
    {
      "cell_type": "code",
      "metadata": {
        "id": "JWUJ5uAigXqI"
      },
      "source": [
        ""
      ],
      "execution_count": null,
      "outputs": []
    },
    {
      "cell_type": "code",
      "metadata": {
        "id": "anb433ZmgXl5"
      },
      "source": [
        ""
      ],
      "execution_count": null,
      "outputs": []
    },
    {
      "cell_type": "code",
      "metadata": {
        "id": "rQqAXbWXgXhn"
      },
      "source": [
        ""
      ],
      "execution_count": null,
      "outputs": []
    },
    {
      "cell_type": "code",
      "metadata": {
        "id": "4XoqlQYggXdM"
      },
      "source": [
        ""
      ],
      "execution_count": null,
      "outputs": []
    },
    {
      "cell_type": "code",
      "metadata": {
        "id": "Yi24j4QxgXZV"
      },
      "source": [
        ""
      ],
      "execution_count": null,
      "outputs": []
    },
    {
      "cell_type": "code",
      "metadata": {
        "id": "CPB2ObGEgXVr"
      },
      "source": [
        ""
      ],
      "execution_count": null,
      "outputs": []
    },
    {
      "cell_type": "code",
      "metadata": {
        "id": "uv3GeEEjgXOi"
      },
      "source": [
        ""
      ],
      "execution_count": null,
      "outputs": []
    },
    {
      "cell_type": "code",
      "metadata": {
        "id": "MQPX95CogAKX"
      },
      "source": [
        ""
      ],
      "execution_count": null,
      "outputs": []
    },
    {
      "cell_type": "code",
      "metadata": {
        "id": "HfVRseh0gBGg"
      },
      "source": [
        ""
      ],
      "execution_count": null,
      "outputs": []
    },
    {
      "cell_type": "code",
      "metadata": {
        "id": "EmgCnN5hgAGW"
      },
      "source": [
        ""
      ],
      "execution_count": null,
      "outputs": []
    },
    {
      "cell_type": "code",
      "metadata": {
        "id": "zx5UBmWZgBhd"
      },
      "source": [
        ""
      ],
      "execution_count": null,
      "outputs": []
    },
    {
      "cell_type": "code",
      "metadata": {
        "id": "ep47SQ87gAB2"
      },
      "source": [
        ""
      ],
      "execution_count": null,
      "outputs": []
    },
    {
      "cell_type": "code",
      "metadata": {
        "id": "Pu46l6defxAE"
      },
      "source": [
        ""
      ],
      "execution_count": null,
      "outputs": []
    },
    {
      "cell_type": "code",
      "metadata": {
        "id": "tHIubakifw8K"
      },
      "source": [
        ""
      ],
      "execution_count": null,
      "outputs": []
    },
    {
      "cell_type": "code",
      "metadata": {
        "id": "zqrfPH3Kfw4R"
      },
      "source": [
        ""
      ],
      "execution_count": null,
      "outputs": []
    },
    {
      "cell_type": "code",
      "metadata": {
        "id": "0erPGY0efw0c"
      },
      "source": [
        ""
      ],
      "execution_count": null,
      "outputs": []
    },
    {
      "cell_type": "code",
      "metadata": {
        "id": "_u3K5y52fwwo"
      },
      "source": [
        ""
      ],
      "execution_count": null,
      "outputs": []
    },
    {
      "cell_type": "code",
      "metadata": {
        "id": "xTkfKChwfwsl"
      },
      "source": [
        ""
      ],
      "execution_count": null,
      "outputs": []
    },
    {
      "cell_type": "code",
      "metadata": {
        "id": "ijhQ4vxnfwos"
      },
      "source": [
        ""
      ],
      "execution_count": null,
      "outputs": []
    },
    {
      "cell_type": "code",
      "metadata": {
        "id": "Y8YcjvOWfwkY"
      },
      "source": [
        ""
      ],
      "execution_count": null,
      "outputs": []
    },
    {
      "cell_type": "code",
      "metadata": {
        "id": "KWSgh3t5fwgO"
      },
      "source": [
        ""
      ],
      "execution_count": null,
      "outputs": []
    },
    {
      "cell_type": "code",
      "metadata": {
        "id": "F1_ZjbtFfwaR"
      },
      "source": [
        ""
      ],
      "execution_count": null,
      "outputs": []
    },
    {
      "cell_type": "code",
      "metadata": {
        "id": "dadWPvd_fvWb"
      },
      "source": [
        ""
      ],
      "execution_count": null,
      "outputs": []
    },
    {
      "cell_type": "code",
      "metadata": {
        "id": "sfIj2aB0fvSt"
      },
      "source": [
        ""
      ],
      "execution_count": null,
      "outputs": []
    },
    {
      "cell_type": "code",
      "metadata": {
        "id": "26D4cH54fvO9"
      },
      "source": [
        ""
      ],
      "execution_count": null,
      "outputs": []
    },
    {
      "cell_type": "code",
      "metadata": {
        "id": "o0ctNBOgfvLG"
      },
      "source": [
        ""
      ],
      "execution_count": null,
      "outputs": []
    },
    {
      "cell_type": "code",
      "metadata": {
        "id": "QbiVYSqgfvHT"
      },
      "source": [
        ""
      ],
      "execution_count": null,
      "outputs": []
    }
  ],
  "metadata": {
    "colab": {
      "name": "model deploy with random forest.ipynb",
      "provenance": []
    },
    "kernelspec": {
      "display_name": "Python 3",
      "name": "python3"
    },
    "language_info": {
      "name": "python"
    }
  },
  "nbformat": 4,
  "nbformat_minor": 0
}